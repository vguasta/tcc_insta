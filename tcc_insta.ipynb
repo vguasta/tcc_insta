{
 "cells": [
  {
   "cell_type": "markdown",
   "id": "c216a87c",
   "metadata": {
    "heading_collapsed": true
   },
   "source": [
    "# Introduction"
   ]
  },
  {
   "cell_type": "markdown",
   "id": "65d7fe35",
   "metadata": {
    "hidden": true
   },
   "source": [
    "## Imports"
   ]
  },
  {
   "cell_type": "code",
   "execution_count": 26,
   "id": "bff01e7f",
   "metadata": {
    "hidden": true
   },
   "outputs": [],
   "source": [
    "from data.InstagramAPI.InstagramAPI import InstagramAPI\n",
    "from data.plots import plot_confusion_matrix\n",
    "from datetime import datetime\n",
    "from imutils import paths #pip install opencv-python\n",
    "from sklearn import metrics\n",
    "from sklearn.linear_model import LogisticRegression\n",
    "from sklearn.preprocessing import LabelEncoder\n",
    "from tensorflow.keras.applications import VGG16\n",
    "from tensorflow.keras.applications import imagenet_utils\n",
    "from tensorflow.keras.preprocessing.image import img_to_array\n",
    "from tensorflow.keras.preprocessing.image import load_img\n",
    "import json\n",
    "import matplotlib.pyplot as plt\n",
    "import numpy as np\n",
    "import os\n",
    "import pickle\n",
    "import random\n",
    "import requests\n",
    "import shutil\n",
    "import sys\n",
    "import tensorflow as tf\n",
    "import time"
   ]
  },
  {
   "cell_type": "markdown",
   "id": "92bea1de",
   "metadata": {
    "heading_collapsed": true,
    "hidden": true
   },
   "source": [
    "### Install Packages"
   ]
  },
  {
   "cell_type": "code",
   "execution_count": null,
   "id": "49b34ca0",
   "metadata": {
    "hidden": true
   },
   "outputs": [],
   "source": [
    "pip install requests"
   ]
  },
  {
   "cell_type": "code",
   "execution_count": null,
   "id": "3baa3b68",
   "metadata": {
    "hidden": true
   },
   "outputs": [],
   "source": [
    "pip install imutils"
   ]
  },
  {
   "cell_type": "code",
   "execution_count": null,
   "id": "ec27732f",
   "metadata": {
    "hidden": true
   },
   "outputs": [],
   "source": [
    "pip install opencv-python"
   ]
  },
  {
   "cell_type": "code",
   "execution_count": null,
   "id": "24220d08",
   "metadata": {
    "hidden": true
   },
   "outputs": [],
   "source": [
    "#On Anaconda Prompt:\n",
    "#pip install tensorflow"
   ]
  },
  {
   "cell_type": "code",
   "execution_count": null,
   "id": "68b75aae",
   "metadata": {
    "hidden": true
   },
   "outputs": [],
   "source": [
    "pip install keras"
   ]
  },
  {
   "cell_type": "markdown",
   "id": "ac3a68d5",
   "metadata": {
    "hidden": true
   },
   "source": [
    "## Global Functions"
   ]
  },
  {
   "cell_type": "code",
   "execution_count": 2,
   "id": "07557f96",
   "metadata": {
    "hidden": true
   },
   "outputs": [],
   "source": [
    "def log_print(data):\n",
    "    print(f\"{datetime.now().strftime('%Y-%m-%d %H:%M:%S')} - {data}\", flush=True)\n",
    "\n",
    "def create_path(path):\n",
    "    if not os.path.exists(path):\n",
    "        os.mkdir(path)\n",
    "        log_print(f\"Path '{path}' was created.\")\n",
    "\n",
    "def delete_path(path):\n",
    "    if os.path.exists(path):\n",
    "        shutil.rmtree(path, ignore_errors=True)\n",
    "        log_print(f\"Path '{path}' was deleted.\")"
   ]
  },
  {
   "cell_type": "markdown",
   "id": "aa5d6962",
   "metadata": {
    "hidden": true
   },
   "source": [
    "## Configs"
   ]
  },
  {
   "cell_type": "code",
   "execution_count": 22,
   "id": "30f66ffd",
   "metadata": {
    "hidden": true
   },
   "outputs": [
    {
     "name": "stdout",
     "output_type": "stream",
     "text": [
      "DATE_BEGIN                : 1590980400.0\n",
      "PATH_BASE                 : D:\\IC\\tcc_insta\n",
      "PATH_BASE_DATA            : D:\\IC\\tcc_insta\\data\n",
      "PATH_1_CREATING_DATASET   : D:\\IC\\tcc_insta\\data\\1-Creating_Dataset\n",
      "PATH_FIRST_DATASET        : D:\\IC\\tcc_insta\\data\\1-Creating_Dataset\\Dataset\n",
      "PATH_FIRST_DATASET_TYPE   : D:\\IC\\tcc_insta\\data\\1-Creating_Dataset\\Dataset\\guastafriends\n",
      "PATH_2_PREPARING_DATASET  : D:\\IC\\tcc_insta\\data\\2-Preparing_Dataset\n",
      "PATH_CLEAN_DATASET        : D:\\IC\\tcc_insta\\data\\2-Preparing_Dataset\\Clean_Dataset\n",
      "PATH_CLEAN_DATASET_TYPE   : D:\\IC\\tcc_insta\\data\\2-Preparing_Dataset\\Clean_Dataset\\guastafriends\n",
      "PATH_3_PROCESSING_DATASET : D:\\IC\\tcc_insta\\data\\3-Processing_Dataset\n",
      "PATH_4_CLASSIFYING_DATASET: D:\\IC\\tcc_insta\\data\\4-Classifying_Dataset\n"
     ]
    }
   ],
   "source": [
    "TYPE = \"guastafriends\"\n",
    "\n",
    "DATE_BEGIN = datetime(2020,6,1,0,0).timestamp()\n",
    "\n",
    "PATH_BASE                  = os.getcwd()\n",
    "PATH_BASE_DATA             = os.path.join(PATH_BASE, \"data\")\n",
    "PATH_1_CREATING_DATASET    = os.path.join(PATH_BASE_DATA, \"1-Creating_Dataset\")\n",
    "PATH_FIRST_DATASET         = os.path.join(PATH_1_CREATING_DATASET, \"Dataset\")\n",
    "PATH_FIRST_DATASET_TYPE    = os.path.join(PATH_FIRST_DATASET, TYPE)\n",
    "PATH_2_PREPARING_DATASET   = os.path.join(PATH_BASE_DATA, \"2-Preparing_Dataset\")\n",
    "PATH_CLEAN_DATASET         = os.path.join(PATH_2_PREPARING_DATASET, \"Clean_Dataset\")\n",
    "PATH_CLEAN_DATASET_TYPE    = os.path.join(PATH_CLEAN_DATASET, TYPE)\n",
    "PATH_3_PROCESSING_DATASET  = os.path.join(PATH_BASE_DATA, \"3-Processing_Dataset\")\n",
    "PATH_4_CLASSIFYING_DATASET = os.path.join(PATH_BASE_DATA, \"4-Classifying_Dataset\")\n",
    "\n",
    "RAIO_FOLLOWERS = 3\n",
    "RAIO_LIKES = 95\n",
    "\n",
    "BATCH_LABEL_COUNTER = 7500\n",
    "\n",
    "BATCH_SIZE = 60\n",
    "CV = 10\n",
    "\n",
    "print(f\"DATE_BEGIN                : {DATE_BEGIN}\")\n",
    "print(f\"PATH_BASE                 : {PATH_BASE}\")\n",
    "print(f\"PATH_BASE_DATA            : {PATH_BASE_DATA}\")\n",
    "print(f\"PATH_1_CREATING_DATASET   : {PATH_1_CREATING_DATASET}\")\n",
    "print(f\"PATH_FIRST_DATASET        : {PATH_FIRST_DATASET}\")\n",
    "print(f\"PATH_FIRST_DATASET_TYPE   : {PATH_FIRST_DATASET_TYPE}\")\n",
    "print(f\"PATH_2_PREPARING_DATASET  : {PATH_2_PREPARING_DATASET}\")\n",
    "print(f\"PATH_CLEAN_DATASET        : {PATH_CLEAN_DATASET}\")\n",
    "print(f\"PATH_CLEAN_DATASET_TYPE   : {PATH_CLEAN_DATASET_TYPE}\")\n",
    "print(f\"PATH_3_PROCESSING_DATASET : {PATH_3_PROCESSING_DATASET}\")\n",
    "print(f\"PATH_4_CLASSIFYING_DATASET: {PATH_4_CLASSIFYING_DATASET}\")"
   ]
  },
  {
   "cell_type": "markdown",
   "id": "e6c0dc79",
   "metadata": {
    "hidden": true
   },
   "source": [
    "### Reset Type"
   ]
  },
  {
   "cell_type": "code",
   "execution_count": 4,
   "id": "243eadbe",
   "metadata": {
    "hidden": true
   },
   "outputs": [],
   "source": [
    "delete_path(PATH_FIRST_DATASET_TYPE)\n",
    "delete_path(PATH_CLEAN_DATASET_TYPE)"
   ]
  },
  {
   "cell_type": "markdown",
   "id": "af0394b3",
   "metadata": {
    "hidden": true
   },
   "source": [
    "### Checking Folders"
   ]
  },
  {
   "cell_type": "code",
   "execution_count": 5,
   "id": "c724cf8b",
   "metadata": {
    "hidden": true
   },
   "outputs": [
    {
     "name": "stdout",
     "output_type": "stream",
     "text": [
      "2021-06-21 22:59:23 - Path 'D:\\IC\\tcc_insta\\data\\1-Creating_Dataset\\Dataset\\guastafriends' was created.\n",
      "2021-06-21 22:59:23 - Path 'D:\\IC\\tcc_insta\\data\\2-Preparing_Dataset\\Clean_Dataset\\guastafriends' was created.\n"
     ]
    }
   ],
   "source": [
    "create_path(PATH_BASE_DATA)\n",
    "create_path(PATH_1_CREATING_DATASET)\n",
    "create_path(PATH_FIRST_DATASET)\n",
    "create_path(PATH_FIRST_DATASET_TYPE)\n",
    "create_path(PATH_2_PREPARING_DATASET)\n",
    "create_path(PATH_CLEAN_DATASET)\n",
    "create_path(PATH_CLEAN_DATASET_TYPE)\n",
    "create_path(PATH_3_PROCESSING_DATASET)\n",
    "create_path(PATH_4_CLASSIFYING_DATASET)"
   ]
  },
  {
   "cell_type": "markdown",
   "id": "d0e5bd94",
   "metadata": {
    "heading_collapsed": true
   },
   "source": [
    "# Creating Dataset"
   ]
  },
  {
   "cell_type": "markdown",
   "id": "2db82974",
   "metadata": {
    "hidden": true
   },
   "source": [
    "## Getting Data"
   ]
  },
  {
   "cell_type": "code",
   "execution_count": 6,
   "id": "53978827",
   "metadata": {
    "hidden": true
   },
   "outputs": [],
   "source": [
    "with open(os.path.join(PATH_1_CREATING_DATASET, \"logins.json\")) as json_file:\n",
    "     file_logins = json.load(json_file)\n",
    "\n",
    "def error_log(acc, log_type, e):\n",
    "    log_print(f\"Failed to process {acc} account: {str(e)}\")\n",
    "    log_print(f\"Appending to file {TYPE}_users_error.log\")\n",
    "    error_file = open(os.path.join(PATH_1_CREATING_DATASET, f\"{TYPE}_users_error.log\"), \"a\")\n",
    "    error_file.write(f\"{datetime.now().strftime('%Y-%m-%d %H:%M:%S')} - {log_type} - {acc} - {str(e)}\")\n",
    "    error_file.write(\"\\n\")\n",
    "    error_file.close()\n",
    "    print(\"**********************************************\\n\")\n",
    "        \n",
    "def get_login(id_login=0, logins=file_logins[\"Logins\"]):\n",
    "    api = None\n",
    "    logged = False\n",
    "    while not logged:      \n",
    "        log_print(\"Trying login in account: \" + logins[id_login][\"username\"])\n",
    "        api = InstagramAPI(logins[id_login][\"username\"], logins[id_login][\"password\"])\n",
    "        logged = api.login()\n",
    "        if not logged:\n",
    "            id_login += 1\n",
    "            if id_login >= len(logins):\n",
    "                id_login = 0\n",
    "            time.sleep(3)\n",
    "    return (api, id_login)\n",
    "        \n",
    "def get_accounts():\n",
    "    file_accounts = open(os.path.join(PATH_1_CREATING_DATASET, f\"{TYPE}_users.txt\"), 'r')\n",
    "    if not os.path.exists(os.path.join(PATH_1_CREATING_DATASET, f\"{TYPE}_users.bkp\")):\n",
    "        shutil.copyfile(os.path.join(PATH_1_CREATING_DATASET, f\"{TYPE}_users.txt\"), os.path.join(PATH_1_CREATING_DATASET, f\"{TYPE}_users.bkp\"))\n",
    "    list_accounts = file_accounts.readlines()\n",
    "    file_accounts.close()\n",
    "    return list_accounts\n",
    "\n",
    "def create_folder_acc(acc):\n",
    "    if not os.path.exists(os.path.join(PATH_FIRST_DATASET_TYPE, acc)):\n",
    "        log_print(f\"Creating folder {acc}\")\n",
    "        if not os.path.exists(PATH_FIRST_DATASET_TYPE):\n",
    "            os.mkdir(PATH_FIRST_DATASET_TYPE)\n",
    "        os.mkdir(os.path.join(PATH_FIRST_DATASET_TYPE, acc))\n",
    "        log_print(f\"Folder {acc} created\")\n",
    "\n",
    "def create_file_user_info(user):\n",
    "    log_print(\"Creating file user_info\")\n",
    "    user[\"collected_at\"] = datetime.timestamp(datetime.now())\n",
    "    with open(os.path.join(PATH_FIRST_DATASET_TYPE, acc, \"user_info.json\"), 'w+', encoding=\"utf-8\") as json_file:\n",
    "        json.dump(user, json_file, indent=4, ensure_ascii=False)\n",
    "    log_print(\"File user_info created\")\n",
    "\n",
    "def get_user_feed(api, id_login, user, next_max_id=None):\n",
    "    get_user_feed = False\n",
    "    while not get_user_feed:\n",
    "        if next_max_id == None:\n",
    "            api.getUserFeed(user['pk'], minTimestamp=int(DATE_BEGIN))\n",
    "        else:\n",
    "            api.getUserFeed(user['pk'], maxid=next_max_id, minTimestamp=int(DATE_BEGIN))\n",
    "        if api.LastResponse.status_code == 429:\n",
    "            (api, id_login) = get_login(id_login=id_login)\n",
    "        else:\n",
    "            get_user_feed = True\n",
    "    return (api, id_login)\n",
    "\n",
    "def create_file_user_posts(api, id_login, user):\n",
    "    log_print(\"Creating file user_posts\")\n",
    "    (api, id_login) = get_user_feed(api, id_login, user)\n",
    "    \n",
    "    if api.LastResponse.status_code == 400:\n",
    "        raise Exception(api.LastJson)\n",
    "        \n",
    "    posts = api.LastJson\n",
    "\n",
    "    while (posts[\"more_available\"]):\n",
    "        time.sleep(round(random.uniform(1,3), 1))\n",
    "        aux_bool = False\n",
    "        (api, id_login) = get_user_feed(api, id_login, user, posts[\"next_max_id\"])\n",
    "\n",
    "        posts[\"items\"].extend(api.LastJson[\"items\"])\n",
    "        posts[\"num_results\"] += api.LastJson[\"num_results\"]\n",
    "        posts[\"more_available\"] =  api.LastJson[\"more_available\"]\n",
    "        if posts[\"more_available\"]:\n",
    "            posts[\"next_max_id\"] = api.LastJson[\"next_max_id\"]\n",
    "        else:\n",
    "            del posts['next_max_id']\n",
    "        posts[\"auto_load_more_enabled\"] = api.LastJson[\"auto_load_more_enabled\"]\n",
    "        posts[\"status\"] = api.LastJson[\"status\"]\n",
    "    posts[\"collected_at\"] = datetime.timestamp(datetime.now())\n",
    "    with open(os.path.join(PATH_FIRST_DATASET_TYPE, acc, \"user_posts.json\"), 'w+', encoding=\"utf-8\") as json_file:\n",
    "        json.dump(posts, json_file, indent=4, ensure_ascii=False)\n",
    "    log_print(\"File user_posts created\")"
   ]
  },
  {
   "cell_type": "code",
   "execution_count": 7,
   "id": "908fbc73",
   "metadata": {
    "code_folding": [],
    "hidden": true
   },
   "outputs": [
    {
     "name": "stdout",
     "output_type": "stream",
     "text": [
      "2021-06-21 22:59:34 - Trying login in account: albert.collector99\n",
      "Request return 405 error!\n",
      "{'message': '', 'status': 'fail'}\n",
      "Request return 404 error!\n",
      "Login success!\n",
      "\n",
      "2021-06-21 22:59:38 - Type: guastafriends\n",
      "2021-06-21 22:59:38 - Starting...\n",
      "\n",
      "2021-06-21 22:59:38 - Searching account _guasta\n",
      "2021-06-21 22:59:39 - Creating folder _guasta\n",
      "2021-06-21 22:59:39 - Folder _guasta created\n",
      "2021-06-21 22:59:39 - Creating file user_info\n",
      "2021-06-21 22:59:39 - File user_info created\n",
      "2021-06-21 22:59:39 - Creating file user_posts\n",
      "2021-06-21 22:59:40 - File user_posts created\n",
      "2021-06-21 22:59:40 - Account _guasta successfully processed\n",
      "**********************************************\n",
      "\n",
      "2021-06-21 22:59:40 - Searching account joao.squinelato\n",
      "2021-06-21 22:59:41 - Creating folder joao.squinelato\n",
      "2021-06-21 22:59:41 - Folder joao.squinelato created\n",
      "2021-06-21 22:59:41 - Creating file user_info\n",
      "2021-06-21 22:59:41 - File user_info created\n",
      "2021-06-21 22:59:41 - Creating file user_posts\n",
      "2021-06-21 22:59:45 - File user_posts created\n",
      "2021-06-21 22:59:45 - Account joao.squinelato successfully processed\n",
      "**********************************************\n",
      "\n",
      "2021-06-21 22:59:45 - Searching account analiviafr\n",
      "2021-06-21 22:59:46 - Creating folder analiviafr\n",
      "2021-06-21 22:59:46 - Folder analiviafr created\n",
      "2021-06-21 22:59:46 - Creating file user_info\n",
      "2021-06-21 22:59:46 - File user_info created\n",
      "2021-06-21 22:59:46 - Creating file user_posts\n",
      "2021-06-21 22:59:48 - File user_posts created\n",
      "2021-06-21 22:59:48 - Account analiviafr successfully processed\n",
      "**********************************************\n",
      "\n",
      "2021-06-21 22:59:48 - Searching account thayfcruz\n",
      "2021-06-21 22:59:50 - Creating folder thayfcruz\n",
      "2021-06-21 22:59:50 - Folder thayfcruz created\n",
      "2021-06-21 22:59:50 - Creating file user_info\n",
      "2021-06-21 22:59:50 - File user_info created\n",
      "2021-06-21 22:59:50 - Creating file user_posts\n",
      "2021-06-21 22:59:50 - File user_posts created\n",
      "2021-06-21 22:59:50 - Account thayfcruz successfully processed\n",
      "**********************************************\n",
      "\n",
      "2021-06-21 22:59:50 - Searching account mariavuzum\n",
      "2021-06-21 22:59:51 - Creating folder mariavuzum\n",
      "2021-06-21 22:59:51 - Folder mariavuzum created\n",
      "2021-06-21 22:59:51 - Creating file user_info\n",
      "2021-06-21 22:59:52 - File user_info created\n",
      "2021-06-21 22:59:52 - Creating file user_posts\n",
      "2021-06-21 22:59:52 - File user_posts created\n",
      "2021-06-21 22:59:52 - Account mariavuzum successfully processed\n",
      "**********************************************\n",
      "\n",
      "2021-06-21 22:59:52 - Searching account matheuserrera\n",
      "2021-06-21 22:59:53 - Creating folder matheuserrera\n",
      "2021-06-21 22:59:53 - Folder matheuserrera created\n",
      "2021-06-21 22:59:53 - Creating file user_info\n",
      "2021-06-21 22:59:53 - File user_info created\n",
      "2021-06-21 22:59:53 - Creating file user_posts\n",
      "2021-06-21 22:59:54 - File user_posts created\n",
      "2021-06-21 22:59:54 - Account matheuserrera successfully processed\n",
      "**********************************************\n",
      "\n"
     ]
    }
   ],
   "source": [
    "(api, id_login) = get_login()\n",
    "\n",
    "log_print(\"Type: \" + TYPE)\n",
    "log_print(\"Starting...\\n\")\n",
    "\n",
    "list_accounts = get_accounts()\n",
    "for acc in list_accounts:\n",
    "    acc = str(acc).strip()\n",
    "\n",
    "    try:\n",
    "        log_print(f\"Searching account {acc}\")\n",
    "        time.sleep(round(random.uniform(0.5, 1.5), 1))\n",
    "        api.searchUsername(acc)\n",
    "        if api.LastResponse.status_code == 200:\n",
    "            imgs_user = {}\n",
    "            imgs_user[\"user\"] = acc\n",
    "            imgs_user[\"downloaded\"] = 0\n",
    "            \n",
    "            create_folder_acc(acc)\n",
    "            user = api.LastJson[\"user\"]\n",
    "            create_file_user_info(user)\n",
    "            create_file_user_posts(api, id_login, user)\n",
    "            \n",
    "    except Exception as e:\n",
    "        error_log(acc, \"GettingData\", e)\n",
    "    else:\n",
    "        log_print(f\"Account {acc} successfully processed\")\n",
    "        print(\"**********************************************\\n\")\n",
    "\n",
    "log_print(\"Finished\")"
   ]
  },
  {
   "cell_type": "markdown",
   "id": "6db1fa5c",
   "metadata": {
    "hidden": true
   },
   "source": [
    "## Creating Overview"
   ]
  },
  {
   "cell_type": "code",
   "execution_count": 8,
   "id": "a6d2b582",
   "metadata": {
    "hidden": true
   },
   "outputs": [],
   "source": [
    "def create_file_user_posts_overview(posts):\n",
    "    \n",
    "    log_print(\"Creating file user_posts_overview\")\n",
    "    \n",
    "    media_count_total = 0\n",
    "    posts_overview = {}\n",
    "    posts_overview[\"collected_at\"] = posts[\"collected_at\"]\n",
    "    posts_overview[\"num_results\"] = posts[\"num_results\"]\n",
    "    posts_overview[\"items\"] = []\n",
    "    \n",
    "    for post in posts[\"items\"]:\n",
    "        if post[\"media_type\"] == 1 or post[\"media_type\"] == 8:\n",
    "            \n",
    "            post_overview = {}\n",
    "            post_overview[\"pk\"] = post[\"pk\"]\n",
    "            post_overview[\"id\"] = post[\"id\"]\n",
    "            post_overview[\"taken_at\"] = post[\"taken_at\"]\n",
    "            post_overview[\"taken_at_year\"] = datetime.fromtimestamp(post_overview[\"taken_at\"]).year\n",
    "            \n",
    "            post_overview[\"caption_text\"] = \"\"\n",
    "            if not post[\"caption\"] is None:\n",
    "                post_overview[\"caption_text\"] = post[\"caption\"][\"text\"]\n",
    "                \n",
    "            post_overview[\"media_type\"] = post[\"media_type\"]\n",
    "            post_overview[\"images\"] = []\n",
    "            if post_overview[\"media_type\"] == 1:\n",
    "                post_overview[\"media_count\"] = 1\n",
    "                image = {}\n",
    "                image[\"pk\"] = post_overview[\"pk\"]\n",
    "                image[\"width\"] = post[\"image_versions2\"][\"candidates\"][0][\"width\"]\n",
    "                image[\"height\"] = post[\"image_versions2\"][\"candidates\"][0][\"height\"]\n",
    "                image[\"url\"] = post[\"image_versions2\"][\"candidates\"][0][\"url\"]\n",
    "                post_overview[\"images\"].append(image)\n",
    "            elif post_overview[\"media_type\"] == 8:\n",
    "                post_overview[\"media_count\"] = post[\"carousel_media_count\"]\n",
    "                for carousel_post in post[\"carousel_media\"]:\n",
    "                    image = {}\n",
    "                    image[\"pk\"] = carousel_post[\"pk\"]\n",
    "                    image[\"width\"] = carousel_post[\"image_versions2\"][\"candidates\"][0][\"width\"]\n",
    "                    image[\"height\"] = carousel_post[\"image_versions2\"][\"candidates\"][0][\"height\"]\n",
    "                    image[\"url\"] = carousel_post[\"image_versions2\"][\"candidates\"][0][\"url\"]\n",
    "                    post_overview[\"images\"].append(image)\n",
    "                    \n",
    "            media_count_total += post_overview[\"media_count\"]\n",
    "            \n",
    "            post_overview[\"location\"] = None\n",
    "            if \"location\" in post:\n",
    "                post_overview[\"location\"] = post[\"location\"]\n",
    "\n",
    "            post_overview[\"like_count\"] = post[\"like_count\"]\n",
    "            \n",
    "            post_overview[\"comments_disabled\"] = False\n",
    "            if \"comments_disabled\" in post:\n",
    "                post_overview[\"comments_disabled\"] = post[\"comments_disabled\"]\n",
    "            if post_overview[\"comments_disabled\"]:\n",
    "                post_overview[\"comment_count\"] = 0\n",
    "            else:\n",
    "                post_overview[\"comment_count\"] = post[\"comment_count\"]\n",
    "\n",
    "            post_overview[\"caption_text_length\"] = len(post_overview[\"caption_text\"])\n",
    "            hashtags = [word[1:] for word in post_overview[\"caption_text\"].split() if word[0] == '#']\n",
    "            post_overview[\"caption_hashtags_count\"] = len(hashtags)\n",
    "            post_overview[\"caption_hashtags\"] = []\n",
    "            \n",
    "            if post_overview[\"caption_hashtags_count\"] > 0:\n",
    "                post_overview[\"caption_hashtags\"] = hashtags\n",
    "            post_overview[\"timestamp_duration\"] = posts_overview[\"collected_at\"] - post_overview[\"taken_at\"]\n",
    "            post_overview[\"likes_by_duration\"] = post_overview[\"like_count\"] / post_overview[\"timestamp_duration\"]\n",
    "            post_overview[\"comments_by_duration\"] = post_overview[\"comment_count\"] / post_overview[\"timestamp_duration\"]\n",
    "            \n",
    "            posts_overview[\"items\"].append(post_overview)\n",
    "            \n",
    "    posts_overview[\"media_count_total\"] = media_count_total\n",
    "\n",
    "    with open(os.path.join(PATH_FIRST_DATASET_TYPE, acc, \"user_posts_overview.json\"), 'w+', encoding=\"utf-8\") as json_file:\n",
    "        json.dump(posts_overview, json_file, indent=4, ensure_ascii=False)\n",
    "    log_print(\"File user_posts_overview created\")"
   ]
  },
  {
   "cell_type": "code",
   "execution_count": 9,
   "id": "45c1f7ba",
   "metadata": {
    "hidden": true
   },
   "outputs": [
    {
     "name": "stdout",
     "output_type": "stream",
     "text": [
      "2021-06-21 23:00:03 - Processing account _guasta\n",
      "2021-06-21 23:00:03 - Creating file user_posts_overview\n",
      "2021-06-21 23:00:03 - File user_posts_overview created\n",
      "2021-06-21 23:00:03 - Account _guasta successfully processed\n",
      "**********************************************\n",
      "\n",
      "2021-06-21 23:00:03 - Processing account joao.squinelato\n",
      "2021-06-21 23:00:03 - Creating file user_posts_overview\n",
      "2021-06-21 23:00:03 - File user_posts_overview created\n",
      "2021-06-21 23:00:03 - Account joao.squinelato successfully processed\n",
      "**********************************************\n",
      "\n",
      "2021-06-21 23:00:03 - Processing account analiviafr\n",
      "2021-06-21 23:00:03 - Creating file user_posts_overview\n",
      "2021-06-21 23:00:03 - File user_posts_overview created\n",
      "2021-06-21 23:00:03 - Account analiviafr successfully processed\n",
      "**********************************************\n",
      "\n",
      "2021-06-21 23:00:03 - Processing account thayfcruz\n",
      "2021-06-21 23:00:03 - Creating file user_posts_overview\n",
      "2021-06-21 23:00:03 - File user_posts_overview created\n",
      "2021-06-21 23:00:03 - Account thayfcruz successfully processed\n",
      "**********************************************\n",
      "\n",
      "2021-06-21 23:00:03 - Processing account mariavuzum\n",
      "2021-06-21 23:00:03 - Creating file user_posts_overview\n",
      "2021-06-21 23:00:03 - File user_posts_overview created\n",
      "2021-06-21 23:00:03 - Account mariavuzum successfully processed\n",
      "**********************************************\n",
      "\n",
      "2021-06-21 23:00:03 - Processing account matheuserrera\n",
      "2021-06-21 23:00:03 - Creating file user_posts_overview\n",
      "2021-06-21 23:00:03 - File user_posts_overview created\n",
      "2021-06-21 23:00:03 - Account matheuserrera successfully processed\n",
      "**********************************************\n",
      "\n",
      "2021-06-21 23:00:03 - Finished\n"
     ]
    }
   ],
   "source": [
    "list_accounts = get_accounts()\n",
    "for acc in list_accounts:\n",
    "    acc = str(acc).strip()\n",
    "    \n",
    "    try:\n",
    "        log_print(f\"Processing account {acc}\")\n",
    "        \n",
    "        with open(os.path.join(PATH_FIRST_DATASET_TYPE, acc, \"user_posts.json\"), encoding=\"utf-8\") as json_file:\n",
    "            posts = json.load(json_file)\n",
    "\n",
    "        create_file_user_posts_overview(posts)\n",
    "\n",
    "    except Exception as e:\n",
    "        error_log(acc, \"CreatingOverview\", e)\n",
    "    else:\n",
    "        log_print(f\"Account {acc} successfully processed\")\n",
    "        print(\"**********************************************\\n\")\n",
    "        \n",
    "log_print(\"Finished\")"
   ]
  },
  {
   "cell_type": "markdown",
   "id": "c7ff5c8f",
   "metadata": {
    "hidden": true
   },
   "source": [
    "## Downloading Images"
   ]
  },
  {
   "cell_type": "code",
   "execution_count": 10,
   "id": "42f53157",
   "metadata": {
    "hidden": true
   },
   "outputs": [],
   "source": [
    "def download_image(url, path):\n",
    "    resp = requests.get(url, stream=True, timeout=20)  # Open the url image, set stream to True, this will return the stream content.\n",
    "    local_file = open(path, 'wb')  # Open a local file with wb ( write binary ) permission.\n",
    "    resp.raw.decode_content = True  # Set decode_content value to True, otherwise the downloaded image file's size will be zero.\n",
    "    shutil.copyfileobj(resp.raw, local_file)  # Copy the response stream raw data to local image file."
   ]
  },
  {
   "cell_type": "code",
   "execution_count": 11,
   "id": "d209d8cf",
   "metadata": {
    "hidden": true,
    "scrolled": true
   },
   "outputs": [
    {
     "name": "stdout",
     "output_type": "stream",
     "text": [
      "2021-06-21 23:00:31 - Processing account _guasta\n",
      "2021-06-21 23:00:31 - Downloading posts pictures:\n",
      "2021-06-21 23:00:31 - 1/12\n",
      "2021-06-21 23:00:31 - 2/12\n",
      "2021-06-21 23:00:31 - 3/12\n",
      "2021-06-21 23:00:31 - 4/12\n",
      "2021-06-21 23:00:31 - 5/12\n",
      "2021-06-21 23:00:31 - 6/12\n",
      "2021-06-21 23:00:31 - 7/12\n",
      "2021-06-21 23:00:31 - 8/12\n",
      "2021-06-21 23:00:31 - 9/12\n",
      "2021-06-21 23:00:31 - 10/12\n",
      "2021-06-21 23:00:31 - 11/12\n",
      "2021-06-21 23:00:32 - 12/12\n",
      "2021-06-21 23:00:32 - 12 image(s) downloaded\n",
      "2021-06-21 23:00:32 - Account _guasta successfully processed\n",
      "**********************************************\n",
      "\n",
      "2021-06-21 23:00:32 - Processing account joao.squinelato\n",
      "2021-06-21 23:00:32 - Downloading posts pictures:\n",
      "2021-06-21 23:00:32 - 1/24\n",
      "2021-06-21 23:00:32 - 2/24\n",
      "2021-06-21 23:00:32 - 3/24\n",
      "2021-06-21 23:00:32 - 4/24\n",
      "2021-06-21 23:00:32 - 5/24\n",
      "2021-06-21 23:00:32 - 6/24\n",
      "2021-06-21 23:00:32 - 7/24\n",
      "2021-06-21 23:00:32 - 8/24\n",
      "2021-06-21 23:00:32 - 9/24\n",
      "2021-06-21 23:00:32 - 10/24\n",
      "2021-06-21 23:00:32 - 11/24\n",
      "2021-06-21 23:00:32 - 12/24\n",
      "2021-06-21 23:00:32 - 13/24\n",
      "2021-06-21 23:00:32 - 14/24\n",
      "2021-06-21 23:00:33 - 15/24\n",
      "2021-06-21 23:00:33 - 16/24\n",
      "2021-06-21 23:00:33 - 17/24\n",
      "2021-06-21 23:00:33 - 18/24\n",
      "2021-06-21 23:00:33 - 19/24\n",
      "2021-06-21 23:00:33 - 20/24\n",
      "2021-06-21 23:00:33 - 21/24\n",
      "2021-06-21 23:00:33 - 22/24\n",
      "2021-06-21 23:00:33 - 23/24\n",
      "2021-06-21 23:00:33 - 24/24\n",
      "2021-06-21 23:00:33 - 24 image(s) downloaded\n",
      "2021-06-21 23:00:33 - Account joao.squinelato successfully processed\n",
      "**********************************************\n",
      "\n",
      "2021-06-21 23:00:33 - Processing account analiviafr\n",
      "2021-06-21 23:00:33 - Downloading posts pictures:\n",
      "2021-06-21 23:00:33 - 1/24\n",
      "2021-06-21 23:00:33 - 2/24\n",
      "2021-06-21 23:00:33 - 3/24\n",
      "2021-06-21 23:00:33 - 4/24\n",
      "2021-06-21 23:00:34 - 5/24\n",
      "2021-06-21 23:00:34 - 6/24\n",
      "2021-06-21 23:00:34 - 7/24\n",
      "2021-06-21 23:00:34 - 8/24\n",
      "2021-06-21 23:00:34 - 9/24\n",
      "2021-06-21 23:00:34 - 10/24\n",
      "2021-06-21 23:00:34 - 11/24\n",
      "2021-06-21 23:00:34 - 12/24\n",
      "2021-06-21 23:00:34 - 13/24\n",
      "2021-06-21 23:00:34 - 14/24\n",
      "2021-06-21 23:00:34 - 15/24\n",
      "2021-06-21 23:00:34 - 16/24\n",
      "2021-06-21 23:00:34 - 17/24\n",
      "2021-06-21 23:00:34 - 18/24\n",
      "2021-06-21 23:00:34 - 19/24\n",
      "2021-06-21 23:00:34 - 20/24\n",
      "2021-06-21 23:00:34 - 21/24\n",
      "2021-06-21 23:00:34 - 22/24\n",
      "2021-06-21 23:00:34 - 23/24\n",
      "2021-06-21 23:00:35 - 24/24\n",
      "2021-06-21 23:00:35 - 24 image(s) downloaded\n",
      "2021-06-21 23:00:35 - Account analiviafr successfully processed\n",
      "**********************************************\n",
      "\n",
      "2021-06-21 23:00:35 - Processing account thayfcruz\n",
      "2021-06-21 23:00:35 - Downloading posts pictures:\n",
      "2021-06-21 23:00:35 - 1/23\n",
      "2021-06-21 23:00:35 - 2/23\n",
      "2021-06-21 23:00:35 - 3/23\n",
      "2021-06-21 23:00:35 - 4/23\n",
      "2021-06-21 23:00:35 - 5/23\n",
      "2021-06-21 23:00:35 - 6/23\n",
      "2021-06-21 23:00:35 - 7/23\n",
      "2021-06-21 23:00:35 - 8/23\n",
      "2021-06-21 23:00:35 - 9/23\n",
      "2021-06-21 23:00:35 - 10/23\n",
      "2021-06-21 23:00:35 - 11/23\n",
      "2021-06-21 23:00:35 - 12/23\n",
      "2021-06-21 23:00:35 - 13/23\n",
      "2021-06-21 23:00:35 - 14/23\n",
      "2021-06-21 23:00:35 - 15/23\n",
      "2021-06-21 23:00:35 - 16/23\n",
      "2021-06-21 23:00:35 - 17/23\n",
      "2021-06-21 23:00:35 - 18/23\n",
      "2021-06-21 23:00:35 - 19/23\n",
      "2021-06-21 23:00:36 - 20/23\n",
      "2021-06-21 23:00:36 - 21/23\n",
      "2021-06-21 23:00:36 - 22/23\n",
      "2021-06-21 23:00:36 - 23/23\n",
      "2021-06-21 23:00:36 - 23 image(s) downloaded\n",
      "2021-06-21 23:00:36 - Account thayfcruz successfully processed\n",
      "**********************************************\n",
      "\n",
      "2021-06-21 23:00:36 - Processing account mariavuzum\n",
      "2021-06-21 23:00:36 - Downloading posts pictures:\n",
      "2021-06-21 23:00:36 - 1/5\n",
      "2021-06-21 23:00:36 - 2/5\n",
      "2021-06-21 23:00:36 - 3/5\n",
      "2021-06-21 23:00:36 - 4/5\n",
      "2021-06-21 23:00:36 - 5/5\n",
      "2021-06-21 23:00:36 - 5 image(s) downloaded\n",
      "2021-06-21 23:00:36 - Account mariavuzum successfully processed\n",
      "**********************************************\n",
      "\n",
      "2021-06-21 23:00:36 - Processing account matheuserrera\n",
      "2021-06-21 23:00:36 - Downloading posts pictures:\n",
      "2021-06-21 23:00:36 - 1/3\n",
      "2021-06-21 23:00:36 - 2/3\n",
      "2021-06-21 23:00:36 - 3/3\n",
      "2021-06-21 23:00:36 - 3 image(s) downloaded\n",
      "2021-06-21 23:00:36 - Account matheuserrera successfully processed\n",
      "**********************************************\n",
      "\n",
      "2021-06-21 23:00:36 - Finished\n"
     ]
    }
   ],
   "source": [
    "again = True\n",
    "while again:\n",
    "    again = False\n",
    "    list_accounts = get_accounts()\n",
    "    for acc in list_accounts:\n",
    "        acc = str(acc).strip()\n",
    "\n",
    "        try:\n",
    "            log_print(f\"Processing account {acc}\")\n",
    "            \n",
    "            if not os.path.exists(os.path.join(PATH_FIRST_DATASET_TYPE, acc, \"images\")):\n",
    "                os.mkdir(os.path.join(PATH_FIRST_DATASET_TYPE, acc, \"images\"))\n",
    "                \n",
    "            with open(os.path.join(PATH_FIRST_DATASET_TYPE, acc, \"user_posts_overview.json\"), encoding=\"utf-8\") as json_file:\n",
    "                posts_overview = json.load(json_file)\n",
    "\n",
    "            log_print(\"Downloading posts pictures:\")\n",
    "            imgs_user_downloaded = len(list(next(os.walk(os.path.join(PATH_FIRST_DATASET_TYPE, acc, \"images\")))[2])) - 1 #0 - root, 1 - dirs, 2 - files\n",
    "            if imgs_user_downloaded <= 0:\n",
    "                imgs_user_downloaded = 0\n",
    "            if imgs_user_downloaded < posts_overview['media_count_total']:\n",
    "                for post in posts_overview[\"items\"]:\n",
    "                    if not \"comments_disabled\" in post or post[\"comments_disabled\"] is False:\n",
    "                        for image in post[\"images\"]:\n",
    "                            if not os.path.exists(os.path.join(PATH_FIRST_DATASET_TYPE, acc, \"images\", str(image[\"pk\"]) + \".jpg\")):\n",
    "                                download_image(image['url'], os.path.join(PATH_FIRST_DATASET_TYPE, acc, \"images\", f\"{image['pk']}.jpg\"))\n",
    "                                imgs_user_downloaded += 1\n",
    "                                log_print(f\"{imgs_user_downloaded}/{posts_overview['media_count_total']}\")\n",
    "                \n",
    "            log_print(f\"{imgs_user_downloaded} image(s) downloaded\")\n",
    "        except Exception as e:\n",
    "            error_log(acc, \"DownloadingImages\", e)\n",
    "            again = True\n",
    "            time.sleep(3)\n",
    "        else:\n",
    "            log_print(f\"Account {acc} successfully processed\")\n",
    "            print(\"**********************************************\\n\")\n",
    "            \n",
    "log_print(\"Finished\")"
   ]
  },
  {
   "cell_type": "markdown",
   "id": "dd1b424e",
   "metadata": {
    "heading_collapsed": true
   },
   "source": [
    "# Preparing Dataset"
   ]
  },
  {
   "cell_type": "markdown",
   "id": "149f7b09",
   "metadata": {
    "hidden": true
   },
   "source": [
    "1 - Depois de executar \"Checking Folders\":\n",
    "    Dentro da pasta \"CNN/CNN_Dataset/[nicho]\" você precisa inserir imagens para cada classe (pastas [nicho] e non_[nicho], por exemplo, dog e non_dog) dentro de cada pasta \"Train\" e \"Test\".\n",
    "    Infelizmente você precisa buscar de maneira manual imagens que pertencem e não pertencem ao nicho que você está estudando.\n",
    "    Recomenda-se pelo menos 1500 imagens para cada classe para o treinamento, totalizando 3000 imagens para o treinamento, e 500 imagens para cada classe para o teste, totalizando 1000 imagens para o teste.\n",
    "\n",
    "2 - O próximo passo é executar 3-Renaming_Images.py, para renomear cada imagem automaticamente, preparando-as para a CNN.\n",
    "\n",
    "3 - Executar 4-Extract_Features.py para extrair as características do conjunto de dados.\n",
    "\n",
    "4 - Executar 5-Train.py para treinar a CNN.\n",
    "\n",
    "5 - Com a CNN treinada, executar 6-Clean.py para classificar/limpar o conjunto de imagens do Instagram.\n",
    "\n",
    "6 - Por fim, executar 7-Moving_Images.py, para mover as imagens para o dataset limpo, em Clean_Dataset.\n",
    "\n",
    "7 - O Arquivo 8-Statistics.py trás algumas estatísticas sobre o dataset limpo."
   ]
  },
  {
   "cell_type": "markdown",
   "id": "0b554a25",
   "metadata": {
    "hidden": true
   },
   "source": [
    "## CNN Clean Configs"
   ]
  },
  {
   "cell_type": "code",
   "execution_count": 12,
   "id": "025e7262",
   "metadata": {
    "hidden": true
   },
   "outputs": [
    {
     "name": "stdout",
     "output_type": "stream",
     "text": [
      "PATH_CNN_CLEAN_BASE                      : D:\\IC\\tcc_insta\\data\\2-Preparing_Dataset\\CNN_Clean\n",
      "PATH_CNN_CLEAN_DATASET                   : D:\\IC\\tcc_insta\\data\\2-Preparing_Dataset\\CNN_Clean\\CNN_Dataset\n",
      "PATH_CNN_CLEAN_DATASET_TYPE              : D:\\IC\\tcc_insta\\data\\2-Preparing_Dataset\\CNN_Clean\\CNN_Dataset\\guastafriends\n",
      "PATH_CNN_CLEAN_DATASET_TYPE_TRAIN        : D:\\IC\\tcc_insta\\data\\2-Preparing_Dataset\\CNN_Clean\\CNN_Dataset\\guastafriends\\Train\n",
      "PATH_CNN_CLEAN_DATASET_TYPE_TRAIN_TYPE   : D:\\IC\\tcc_insta\\data\\2-Preparing_Dataset\\CNN_Clean\\CNN_Dataset\\guastafriends\\Train\\guastafriends\n",
      "PATH_CNN_CLEAN_DATASET_TYPE_TRAIN_NONTYPE: D:\\IC\\tcc_insta\\data\\2-Preparing_Dataset\\CNN_Clean\\CNN_Dataset\\guastafriends\\Train\\non_guastafriends\n",
      "PATH_CNN_CLEAN_DATASET_TYPE_TEST         : D:\\IC\\tcc_insta\\data\\2-Preparing_Dataset\\CNN_Clean\\CNN_Dataset\\guastafriends\\Test\n",
      "PATH_CNN_CLEAN_DATASET_TYPE_TEST_TYPE    : D:\\IC\\tcc_insta\\data\\2-Preparing_Dataset\\CNN_Clean\\CNN_Dataset\\guastafriends\\Test\\guastafriends\n",
      "PATH_CNN_CLEAN_DATASET_TYPE_TEST_NONTYPE : D:\\IC\\tcc_insta\\data\\2-Preparing_Dataset\\CNN_Clean\\CNN_Dataset\\guastafriends\\Test\\non_guastafriends\n",
      "PATH_CNN_CLEAN_OUTPUT                    : D:\\IC\\tcc_insta\\data\\2-Preparing_Dataset\\CNN_Clean\\CNN_Output\n",
      "PATH_CNN_CLEAN_OUTPUT_TYPE               : D:\\IC\\tcc_insta\\data\\2-Preparing_Dataset\\CNN_Clean\\CNN_Output\\guastafriends\n"
     ]
    }
   ],
   "source": [
    "PATH_CNN_CLEAN_BASE                       = os.path.join(PATH_2_PREPARING_DATASET, \"CNN_Clean\")\n",
    "PATH_CNN_CLEAN_DATASET                    = os.path.join(PATH_CNN_CLEAN_BASE, \"CNN_Dataset\")\n",
    "PATH_CNN_CLEAN_DATASET_TYPE               = os.path.join(PATH_CNN_CLEAN_DATASET, TYPE)\n",
    "PATH_CNN_CLEAN_DATASET_TYPE_TRAIN         = os.path.join(PATH_CNN_CLEAN_DATASET_TYPE, \"Train\")\n",
    "PATH_CNN_CLEAN_DATASET_TYPE_TRAIN_TYPE    = os.path.join(PATH_CNN_CLEAN_DATASET_TYPE_TRAIN, TYPE)\n",
    "PATH_CNN_CLEAN_DATASET_TYPE_TRAIN_NONTYPE = os.path.join(PATH_CNN_CLEAN_DATASET_TYPE_TRAIN, f\"non_{TYPE}\")\n",
    "PATH_CNN_CLEAN_DATASET_TYPE_TEST          = os.path.join(PATH_CNN_CLEAN_DATASET_TYPE, \"Test\")\n",
    "PATH_CNN_CLEAN_DATASET_TYPE_TEST_TYPE     = os.path.join(PATH_CNN_CLEAN_DATASET_TYPE_TEST, TYPE)\n",
    "PATH_CNN_CLEAN_DATASET_TYPE_TEST_NONTYPE  = os.path.join(PATH_CNN_CLEAN_DATASET_TYPE_TEST, f\"non_{TYPE}\")\n",
    "PATH_CNN_CLEAN_OUTPUT                     = os.path.join(PATH_CNN_CLEAN_BASE, \"CNN_Output\")\n",
    "PATH_CNN_CLEAN_OUTPUT_TYPE                = os.path.join(PATH_CNN_CLEAN_OUTPUT, TYPE)\n",
    "\n",
    "print(f\"PATH_CNN_CLEAN_BASE                      : {PATH_CNN_CLEAN_BASE}\")\n",
    "print(f\"PATH_CNN_CLEAN_DATASET                   : {PATH_CNN_CLEAN_DATASET}\")\n",
    "print(f\"PATH_CNN_CLEAN_DATASET_TYPE              : {PATH_CNN_CLEAN_DATASET_TYPE}\")\n",
    "print(f\"PATH_CNN_CLEAN_DATASET_TYPE_TRAIN        : {PATH_CNN_CLEAN_DATASET_TYPE_TRAIN}\")\n",
    "print(f\"PATH_CNN_CLEAN_DATASET_TYPE_TRAIN_TYPE   : {PATH_CNN_CLEAN_DATASET_TYPE_TRAIN_TYPE}\")\n",
    "print(f\"PATH_CNN_CLEAN_DATASET_TYPE_TRAIN_NONTYPE: {PATH_CNN_CLEAN_DATASET_TYPE_TRAIN_NONTYPE}\")\n",
    "print(f\"PATH_CNN_CLEAN_DATASET_TYPE_TEST         : {PATH_CNN_CLEAN_DATASET_TYPE_TEST}\")\n",
    "print(f\"PATH_CNN_CLEAN_DATASET_TYPE_TEST_TYPE    : {PATH_CNN_CLEAN_DATASET_TYPE_TEST_TYPE}\")\n",
    "print(f\"PATH_CNN_CLEAN_DATASET_TYPE_TEST_NONTYPE : {PATH_CNN_CLEAN_DATASET_TYPE_TEST_NONTYPE}\")\n",
    "print(f\"PATH_CNN_CLEAN_OUTPUT                    : {PATH_CNN_CLEAN_OUTPUT}\")\n",
    "print(f\"PATH_CNN_CLEAN_OUTPUT_TYPE               : {PATH_CNN_CLEAN_OUTPUT_TYPE}\")"
   ]
  },
  {
   "cell_type": "markdown",
   "id": "6032c957",
   "metadata": {
    "hidden": true
   },
   "source": [
    "### Reset Type"
   ]
  },
  {
   "cell_type": "code",
   "execution_count": 13,
   "id": "dd5a61ab",
   "metadata": {
    "hidden": true
   },
   "outputs": [],
   "source": [
    "delete_path(PATH_CNN_CLEAN_DATASET_TYPE)\n",
    "delete_path(PATH_CNN_CLEAN_OUTPUT_TYPE)"
   ]
  },
  {
   "cell_type": "markdown",
   "id": "79af36d5",
   "metadata": {
    "hidden": true
   },
   "source": [
    "### Checking Folders"
   ]
  },
  {
   "cell_type": "code",
   "execution_count": 14,
   "id": "c67af659",
   "metadata": {
    "hidden": true
   },
   "outputs": [
    {
     "name": "stdout",
     "output_type": "stream",
     "text": [
      "2021-06-21 23:00:49 - Path 'D:\\IC\\tcc_insta\\data\\2-Preparing_Dataset\\CNN_Clean\\CNN_Dataset\\guastafriends' was created.\n",
      "2021-06-21 23:00:49 - Path 'D:\\IC\\tcc_insta\\data\\2-Preparing_Dataset\\CNN_Clean\\CNN_Dataset\\guastafriends\\Train' was created.\n",
      "2021-06-21 23:00:49 - Path 'D:\\IC\\tcc_insta\\data\\2-Preparing_Dataset\\CNN_Clean\\CNN_Dataset\\guastafriends\\Train\\guastafriends' was created.\n",
      "2021-06-21 23:00:49 - Path 'D:\\IC\\tcc_insta\\data\\2-Preparing_Dataset\\CNN_Clean\\CNN_Dataset\\guastafriends\\Train\\non_guastafriends' was created.\n",
      "2021-06-21 23:00:49 - Path 'D:\\IC\\tcc_insta\\data\\2-Preparing_Dataset\\CNN_Clean\\CNN_Dataset\\guastafriends\\Test' was created.\n",
      "2021-06-21 23:00:49 - Path 'D:\\IC\\tcc_insta\\data\\2-Preparing_Dataset\\CNN_Clean\\CNN_Dataset\\guastafriends\\Test\\guastafriends' was created.\n",
      "2021-06-21 23:00:49 - Path 'D:\\IC\\tcc_insta\\data\\2-Preparing_Dataset\\CNN_Clean\\CNN_Dataset\\guastafriends\\Test\\non_guastafriends' was created.\n",
      "2021-06-21 23:00:49 - Path 'D:\\IC\\tcc_insta\\data\\2-Preparing_Dataset\\CNN_Clean\\CNN_Output\\guastafriends' was created.\n"
     ]
    }
   ],
   "source": [
    "create_path(PATH_CNN_CLEAN_BASE)\n",
    "create_path(PATH_CNN_CLEAN_DATASET)\n",
    "create_path(PATH_CNN_CLEAN_DATASET_TYPE)\n",
    "create_path(PATH_CNN_CLEAN_DATASET_TYPE_TRAIN)\n",
    "create_path(PATH_CNN_CLEAN_DATASET_TYPE_TRAIN_TYPE)\n",
    "create_path(PATH_CNN_CLEAN_DATASET_TYPE_TRAIN_NONTYPE)\n",
    "create_path(PATH_CNN_CLEAN_DATASET_TYPE_TEST)\n",
    "create_path(PATH_CNN_CLEAN_DATASET_TYPE_TEST_TYPE)\n",
    "create_path(PATH_CNN_CLEAN_DATASET_TYPE_TEST_NONTYPE)\n",
    "create_path(PATH_CNN_CLEAN_OUTPUT)\n",
    "create_path(PATH_CNN_CLEAN_OUTPUT_TYPE)"
   ]
  },
  {
   "cell_type": "markdown",
   "id": "4f81c580",
   "metadata": {
    "hidden": true
   },
   "source": [
    "## Renaming Images"
   ]
  },
  {
   "cell_type": "code",
   "execution_count": 18,
   "id": "fd9e46ae",
   "metadata": {
    "hidden": true
   },
   "outputs": [
    {
     "name": "stdout",
     "output_type": "stream",
     "text": [
      "All images has been renamed\n"
     ]
    }
   ],
   "source": [
    "def rename_images(img_list, file_path, prefix):\n",
    "    count = 0\n",
    "    for img in img_list:\n",
    "        os.rename(os.path.join(file_path, img), os.path.join(file_path, f\"{prefix}_{count}.jpg\"))\n",
    "        count += 1\n",
    "    \n",
    "train_type_images = next(os.walk(PATH_CNN_CLEAN_DATASET_TYPE_TRAIN_TYPE))[2] #0 - root, 1 - dirs, 2 - files\n",
    "train_nontype_images = next(os.walk(PATH_CNN_CLEAN_DATASET_TYPE_TRAIN_NONTYPE))[2] #0 - root, 1 - dirs, 2 - files\n",
    "test_type_images = next(os.walk(PATH_CNN_CLEAN_DATASET_TYPE_TEST_TYPE))[2] #0 - root, 1 - dirs, 2 - files\n",
    "test_nontype_images = next(os.walk(PATH_CNN_CLEAN_DATASET_TYPE_TEST_NONTYPE))[2] #0 - root, 1 - dirs, 2 - files\n",
    "\n",
    "rename_images(train_type_images, PATH_CNN_CLEAN_DATASET_TYPE_TRAIN_TYPE, 1)\n",
    "rename_images(train_nontype_images, PATH_CNN_CLEAN_DATASET_TYPE_TRAIN_NONTYPE, 0)\n",
    "rename_images(test_type_images, PATH_CNN_CLEAN_DATASET_TYPE_TEST_TYPE, 1)\n",
    "rename_images(test_nontype_images, PATH_CNN_CLEAN_DATASET_TYPE_TEST_NONTYPE, 0)\n",
    "\n",
    "log_print(\"All images has been renamed\")"
   ]
  },
  {
   "cell_type": "markdown",
   "id": "204a4625",
   "metadata": {
    "hidden": true
   },
   "source": [
    "## Extract Features"
   ]
  },
  {
   "cell_type": "code",
   "execution_count": 25,
   "id": "2708030f",
   "metadata": {
    "hidden": true
   },
   "outputs": [
    {
     "name": "stdout",
     "output_type": "stream",
     "text": [
      "2021-06-21 23:29:33 - [INFO] loading network...\n",
      "2021-06-21 23:29:34 - [INFO] processing 'Train split'...\n",
      "2021-06-21 23:29:34 - [INFO] processing batch 1/1\n",
      "2021-06-21 23:29:44 - [INFO] processing 'Test split'...\n",
      "2021-06-21 23:29:44 - [INFO] processing batch 1/1\n",
      "2021-06-21 23:29:47 - Finished\n"
     ]
    }
   ],
   "source": [
    "le = LabelEncoder()\n",
    "le.fit([f\"non_{TYPE}\", TYPE])\n",
    "# serialize the label encoder to disk\n",
    "f = open(os.path.join(PATH_CNN_CLEAN_OUTPUT_TYPE, \"le.cpickle\"), \"wb\")\n",
    "f.write(pickle.dumps(le))\n",
    "f.close()\n",
    "\n",
    "# load the VGG16 network and initialize the label encoder\n",
    "log_print(\"[INFO] loading network...\")\n",
    "model = VGG16(weights=\"imagenet\", include_top=False)\n",
    "\n",
    "# loop over the data splits\n",
    "for split in ([\"Train\", \"Test\"]):\n",
    "    # grab all image paths in the current split\n",
    "    log_print(f\"[INFO] processing '{split} split'...\")\n",
    "    p = os.path.join(PATH_CNN_CLEAN_DATASET_TYPE, split)\n",
    "    imagePaths = list(paths.list_images(p))\n",
    "\n",
    "    # randomly shuffle the image paths and then extract the class\n",
    "    # labels from the file paths\n",
    "    random.shuffle(imagePaths)\n",
    "\n",
    "    labels = [p.split(os.path.sep)[-2] for p in imagePaths]\n",
    "\n",
    "    # open the output CSV file for writing\n",
    "    csvPath = os.path.join(PATH_CNN_CLEAN_OUTPUT_TYPE, split + \".csv\")\n",
    "    csv = open(csvPath, \"w\")\n",
    "\n",
    "    # loop over the images in batches\n",
    "    for (b, i) in enumerate(range(0, len(imagePaths), BATCH_SIZE)):\n",
    "        # extract the batch of images and labels, then initialize the\n",
    "        # list of actual images that will be passed through the network\n",
    "        # for feature extraction\n",
    "        log_print(\"[INFO] processing batch {}/{}\".format(b + 1, int(np.ceil(len(imagePaths) / float(BATCH_SIZE)))))\n",
    "        batchPaths = imagePaths[i:i + BATCH_SIZE]\n",
    "        batchLabels = le.transform(labels[i:i + BATCH_SIZE])\n",
    "        batchImages = []\n",
    "\n",
    "        # loop over the images and labels in the current batch\n",
    "        for imagePath in batchPaths:\n",
    "            # load the input image using the Keras helper utility while ensuring the image is resized to 224x224 pixels\n",
    "            image = load_img(imagePath, target_size=(224, 224))\n",
    "            image = img_to_array(image)\n",
    "\n",
    "            # preprocess the image by (1) expanding the dimensions and\n",
    "            # (2) subtracting the mean RGB pixel intensity from the ImageNet dataset\n",
    "            image = np.expand_dims(image, axis=0)\n",
    "            image = imagenet_utils.preprocess_input(image)\n",
    "\n",
    "            # add the image to the batch\n",
    "            batchImages.append(image)\n",
    "\n",
    "        # pass the images through the network and use the outputs as\n",
    "        # our actual features, then reshape the features into a\n",
    "        # flattened volume\n",
    "        batchImages = np.vstack(batchImages)\n",
    "        features = model.predict(batchImages, batch_size=BATCH_SIZE)\n",
    "        features = features.reshape((features.shape[0], 7 * 7 * 512))\n",
    "\n",
    "        # loop over the class labels and extracted features\n",
    "        for (label, vec) in zip(batchLabels, features):\n",
    "            # construct a row that exists of the class label and\n",
    "            # extracted features\n",
    "            vec = \",\".join([str(v) for v in vec])\n",
    "            csv.write(\"{},{}\\n\".format(label, vec))\n",
    "\n",
    "    # close the CSV file\n",
    "    csv.close()\n",
    "log_print(\"Finished\")"
   ]
  },
  {
   "cell_type": "markdown",
   "id": "43dcf398",
   "metadata": {
    "hidden": true
   },
   "source": [
    "## Train"
   ]
  },
  {
   "cell_type": "code",
   "execution_count": 27,
   "id": "84420153",
   "metadata": {
    "hidden": true
   },
   "outputs": [
    {
     "name": "stdout",
     "output_type": "stream",
     "text": [
      "[INFO] loading data...\n",
      "[INFO] training model...\n",
      "[INFO] evaluating...\n",
      "                   precision    recall  f1-score   support\n",
      "\n",
      "    guastafriends       1.00      1.00      1.00         5\n",
      "non_guastafriends       1.00      1.00      1.00         5\n",
      "\n",
      "         accuracy                           1.00        10\n",
      "        macro avg       1.00      1.00      1.00        10\n",
      "     weighted avg       1.00      1.00      1.00        10\n",
      "\n",
      "Normalized confusion matrix\n",
      "[[1. 0.]\n",
      " [0. 1.]]\n",
      "[INFO] saving model...\n"
     ]
    },
    {
     "data": {
      "image/png": "[encoded data removed]",
      "text/plain": [
       "<Figure size 432x288 with 2 Axes>"
      ]
     },
     "metadata": {
      "needs_background": "light"
     },
     "output_type": "display_data"
    }
   ],
   "source": [
    "def load_data_split(splitPath):\n",
    "    # initialize the data and labels\n",
    "    data = []\n",
    "    labels = []\n",
    "\n",
    "    # loop over the rows in the data split file\n",
    "    for row in open(splitPath):\n",
    "        # extract the class label and features from the row\n",
    "        row = row.strip().split(\",\")\n",
    "        label = row[0]\n",
    "        features = np.array(row[1:], dtype=\"float\")\n",
    "\n",
    "        # update the data and label lists\n",
    "        data.append(features)\n",
    "        labels.append(label)\n",
    "\n",
    "    # convert the data and labels to NumPy arrays\n",
    "    data = np.array(data)\n",
    "    labels = np.array(labels)\n",
    "\n",
    "    # return a tuple of the data and labels\n",
    "    return (data, labels)\n",
    "# ======================================================\n",
    "\n",
    "# derive the paths to the training and testing CSV files\n",
    "trainingPath = os.path.join(PATH_CNN_CLEAN_OUTPUT_TYPE, \"Train.csv\")\n",
    "testingPath = os.path.join(PATH_CNN_CLEAN_OUTPUT_TYPE, \"Test.csv\")\n",
    "\n",
    "# load the data from disk\n",
    "log_print(\"[INFO] loading data...\")\n",
    "(trainX, trainY) = load_data_split(trainingPath)\n",
    "(testX, testY) = load_data_split(testingPath)\n",
    "\n",
    "# load the label encoder from disk\n",
    "le = pickle.loads(open(os.path.join(PATH_CNN_CLEAN_OUTPUT_TYPE, \"le.cpickle\"), \"rb\").read())\n",
    "\n",
    "# train the model\n",
    "log_print(\"[INFO] training model...\")\n",
    "model = LogisticRegression(solver=\"lbfgs\", multi_class=\"auto\")\n",
    "model.fit(trainX, trainY)\n",
    "\n",
    "# evaluate the model\n",
    "log_print(\"[INFO] evaluating...\")\n",
    "preds = model.predict(testX)\n",
    "log_print(metrics.classification_report(testY, preds, target_names=le.classes_))\n",
    "plot_confusion_matrix(testY, preds, np.array(le.classes_), normalize=True)\n",
    "\n",
    "# serialize the model to disk\n",
    "log_print(\"[INFO] saving model...\")\n",
    "plt.savefig(os.path.join(PATH_CNN_CLEAN_OUTPUT_TYPE, \"test_normalized.svg\"))\n",
    "f = open(os.path.join(PATH_CNN_CLEAN_OUTPUT_TYPE, \"model.cpickle\"), \"wb\")\n",
    "f.write(pickle.dumps(model))\n",
    "f.close()"
   ]
  },
  {
   "cell_type": "markdown",
   "id": "57beee6a",
   "metadata": {
    "hidden": true
   },
   "source": [
    "## Clean"
   ]
  },
  {
   "cell_type": "code",
   "execution_count": 31,
   "id": "ca703a47",
   "metadata": {
    "hidden": true
   },
   "outputs": [
    {
     "name": "stdout",
     "output_type": "stream",
     "text": [
      "2021-06-21 23:46:09 - [INFO] loading network...\n",
      "2021-06-21 23:46:09 - Processing account: _guasta\n",
      "2021-06-21 23:46:09 - Images:\n",
      "2021-06-21 23:46:09 - 1/12 - D:\\IC\\tcc_insta\\data\\1-Creating_Dataset\\Dataset\\guastafriends\\_guasta\\images\\2508462570224420294.jpg\n",
      "2021-06-21 23:46:09 - guastafriends\n",
      "\n",
      "2021-06-21 23:46:09 - 2/12 - D:\\IC\\tcc_insta\\data\\1-Creating_Dataset\\Dataset\\guastafriends\\_guasta\\images\\2488662707093662192.jpg\n",
      "2021-06-21 23:46:09 - guastafriends\n",
      "\n",
      "2021-06-21 23:46:09 - 3/12 - D:\\IC\\tcc_insta\\data\\1-Creating_Dataset\\Dataset\\guastafriends\\_guasta\\images\\2477129333418118159.jpg\n",
      "2021-06-21 23:46:10 - guastafriends\n",
      "\n",
      "2021-06-21 23:46:10 - 4/12 - D:\\IC\\tcc_insta\\data\\1-Creating_Dataset\\Dataset\\guastafriends\\_guasta\\images\\2433755727346864957.jpg\n",
      "2021-06-21 23:46:10 - guastafriends\n",
      "\n",
      "2021-06-21 23:46:10 - 5/12 - D:\\IC\\tcc_insta\\data\\1-Creating_Dataset\\Dataset\\guastafriends\\_guasta\\images\\2432526478128585424.jpg\n",
      "2021-06-21 23:46:10 - guastafriends\n",
      "\n",
      "2021-06-21 23:46:10 - 6/12 - D:\\IC\\tcc_insta\\data\\1-Creating_Dataset\\Dataset\\guastafriends\\_guasta\\images\\2432526478011250174.jpg\n",
      "2021-06-21 23:46:10 - guastafriends\n",
      "\n",
      "2021-06-21 23:46:10 - 7/12 - D:\\IC\\tcc_insta\\data\\1-Creating_Dataset\\Dataset\\guastafriends\\_guasta\\images\\2422345640715813394.jpg\n",
      "2021-06-21 23:46:10 - guastafriends\n",
      "\n",
      "2021-06-21 23:46:10 - 8/12 - D:\\IC\\tcc_insta\\data\\1-Creating_Dataset\\Dataset\\guastafriends\\_guasta\\images\\2421428780440852184.jpg\n",
      "2021-06-21 23:46:11 - guastafriends\n",
      "\n",
      "2021-06-21 23:46:11 - 9/12 - D:\\IC\\tcc_insta\\data\\1-Creating_Dataset\\Dataset\\guastafriends\\_guasta\\images\\2365543079157870052.jpg\n",
      "2021-06-21 23:46:11 - guastafriends\n",
      "\n",
      "2021-06-21 23:46:11 - 10/12 - D:\\IC\\tcc_insta\\data\\1-Creating_Dataset\\Dataset\\guastafriends\\_guasta\\images\\2344698387838587180.jpg\n",
      "2021-06-21 23:46:11 - guastafriends\n",
      "\n",
      "2021-06-21 23:46:11 - 11/12 - D:\\IC\\tcc_insta\\data\\1-Creating_Dataset\\Dataset\\guastafriends\\_guasta\\images\\2334545090964675093.jpg\n",
      "2021-06-21 23:46:11 - guastafriends\n",
      "\n",
      "2021-06-21 23:46:11 - 12/12 - D:\\IC\\tcc_insta\\data\\1-Creating_Dataset\\Dataset\\guastafriends\\_guasta\\images\\2334545090981593619.jpg\n",
      "2021-06-21 23:46:11 - guastafriends\n",
      "\n",
      "2021-06-21 23:46:11 - **********************\n",
      "2021-06-21 23:46:11 - \n",
      "\n",
      "\n",
      "2021-06-21 23:46:11 - Processing account: joao.squinelato\n",
      "2021-06-21 23:46:12 - Images:\n",
      "2021-06-21 23:46:12 - 1/24 - D:\\IC\\tcc_insta\\data\\1-Creating_Dataset\\Dataset\\guastafriends\\joao.squinelato\\images\\2590449570278362912.jpg\n",
      "2021-06-21 23:46:12 - guastafriends\n",
      "\n",
      "2021-06-21 23:46:12 - 2/24 - D:\\IC\\tcc_insta\\data\\1-Creating_Dataset\\Dataset\\guastafriends\\joao.squinelato\\images\\2589362845120692374.jpg\n",
      "2021-06-21 23:46:12 - guastafriends\n",
      "\n",
      "2021-06-21 23:46:12 - 3/24 - D:\\IC\\tcc_insta\\data\\1-Creating_Dataset\\Dataset\\guastafriends\\joao.squinelato\\images\\2585399293934542594.jpg\n",
      "2021-06-21 23:46:12 - guastafriends\n",
      "\n",
      "2021-06-21 23:46:12 - 4/24 - D:\\IC\\tcc_insta\\data\\1-Creating_Dataset\\Dataset\\guastafriends\\joao.squinelato\\images\\2553959008324384891.jpg\n",
      "2021-06-21 23:46:13 - guastafriends\n",
      "\n",
      "2021-06-21 23:46:13 - 5/24 - D:\\IC\\tcc_insta\\data\\1-Creating_Dataset\\Dataset\\guastafriends\\joao.squinelato\\images\\2533098677417882234.jpg\n",
      "2021-06-21 23:46:13 - guastafriends\n",
      "\n",
      "2021-06-21 23:46:13 - 6/24 - D:\\IC\\tcc_insta\\data\\1-Creating_Dataset\\Dataset\\guastafriends\\joao.squinelato\\images\\2533098677493474196.jpg\n",
      "2021-06-21 23:46:13 - guastafriends\n",
      "\n",
      "2021-06-21 23:46:13 - 7/24 - D:\\IC\\tcc_insta\\data\\1-Creating_Dataset\\Dataset\\guastafriends\\joao.squinelato\\images\\2522953598737019805.jpg\n",
      "2021-06-21 23:46:13 - guastafriends\n",
      "\n",
      "2021-06-21 23:46:13 - 8/24 - D:\\IC\\tcc_insta\\data\\1-Creating_Dataset\\Dataset\\guastafriends\\joao.squinelato\\images\\2501326294409642626.jpg\n",
      "2021-06-21 23:46:13 - non_guastafriends\n",
      "\n",
      "2021-06-21 23:46:13 - 9/24 - D:\\IC\\tcc_insta\\data\\1-Creating_Dataset\\Dataset\\guastafriends\\joao.squinelato\\images\\2501326294393005390.jpg\n",
      "2021-06-21 23:46:14 - non_guastafriends\n",
      "\n",
      "2021-06-21 23:46:14 - 10/24 - D:\\IC\\tcc_insta\\data\\1-Creating_Dataset\\Dataset\\guastafriends\\joao.squinelato\\images\\2501326294409634316.jpg\n",
      "2021-06-21 23:46:14 - non_guastafriends\n",
      "\n",
      "2021-06-21 23:46:14 - 11/24 - D:\\IC\\tcc_insta\\data\\1-Creating_Dataset\\Dataset\\guastafriends\\joao.squinelato\\images\\2387454006711797209.jpg\n",
      "2021-06-21 23:46:14 - guastafriends\n",
      "\n",
      "2021-06-21 23:46:14 - 12/24 - D:\\IC\\tcc_insta\\data\\1-Creating_Dataset\\Dataset\\guastafriends\\joao.squinelato\\images\\2387454006695009824.jpg\n",
      "2021-06-21 23:46:15 - guastafriends\n",
      "\n",
      "2021-06-21 23:46:15 - 13/24 - D:\\IC\\tcc_insta\\data\\1-Creating_Dataset\\Dataset\\guastafriends\\joao.squinelato\\images\\2343748867928146453.jpg\n",
      "2021-06-21 23:46:15 - non_guastafriends\n",
      "\n",
      "2021-06-21 23:46:15 - 14/24 - D:\\IC\\tcc_insta\\data\\1-Creating_Dataset\\Dataset\\guastafriends\\joao.squinelato\\images\\2336018222259753414.jpg\n",
      "2021-06-21 23:46:15 - guastafriends\n",
      "\n",
      "2021-06-21 23:46:15 - 15/24 - D:\\IC\\tcc_insta\\data\\1-Creating_Dataset\\Dataset\\guastafriends\\joao.squinelato\\images\\2330963800190128628.jpg\n",
      "2021-06-21 23:46:15 - guastafriends\n",
      "\n",
      "2021-06-21 23:46:15 - 16/24 - D:\\IC\\tcc_insta\\data\\1-Creating_Dataset\\Dataset\\guastafriends\\joao.squinelato\\images\\2330963800173441753.jpg\n",
      "2021-06-21 23:46:15 - guastafriends\n",
      "\n",
      "2021-06-21 23:46:15 - 17/24 - D:\\IC\\tcc_insta\\data\\1-Creating_Dataset\\Dataset\\guastafriends\\joao.squinelato\\images\\2330369818829759649.jpg\n",
      "2021-06-21 23:46:16 - guastafriends\n",
      "\n",
      "2021-06-21 23:46:16 - 18/24 - D:\\IC\\tcc_insta\\data\\1-Creating_Dataset\\Dataset\\guastafriends\\joao.squinelato\\images\\2330369818838063433.jpg\n",
      "2021-06-21 23:46:16 - guastafriends\n",
      "\n",
      "2021-06-21 23:46:16 - 19/24 - D:\\IC\\tcc_insta\\data\\1-Creating_Dataset\\Dataset\\guastafriends\\joao.squinelato\\images\\2330369818812987055.jpg\n",
      "2021-06-21 23:46:16 - guastafriends\n",
      "\n",
      "2021-06-21 23:46:16 - 20/24 - D:\\IC\\tcc_insta\\data\\1-Creating_Dataset\\Dataset\\guastafriends\\joao.squinelato\\images\\2330301705228407467.jpg\n",
      "2021-06-21 23:46:16 - non_guastafriends\n",
      "\n",
      "2021-06-21 23:46:16 - 21/24 - D:\\IC\\tcc_insta\\data\\1-Creating_Dataset\\Dataset\\guastafriends\\joao.squinelato\\images\\2326674604524985133.jpg\n",
      "2021-06-21 23:46:16 - non_guastafriends\n",
      "\n",
      "2021-06-21 23:46:16 - 22/24 - D:\\IC\\tcc_insta\\data\\1-Creating_Dataset\\Dataset\\guastafriends\\joao.squinelato\\images\\2326674604541680895.jpg\n",
      "2021-06-21 23:46:17 - non_guastafriends\n",
      "\n",
      "2021-06-21 23:46:17 - 23/24 - D:\\IC\\tcc_insta\\data\\1-Creating_Dataset\\Dataset\\guastafriends\\joao.squinelato\\images\\2326674604482913317.jpg\n",
      "2021-06-21 23:46:17 - non_guastafriends\n",
      "\n",
      "2021-06-21 23:46:17 - 24/24 - D:\\IC\\tcc_insta\\data\\1-Creating_Dataset\\Dataset\\guastafriends\\joao.squinelato\\images\\2322331737748859406.jpg\n",
      "2021-06-21 23:46:17 - non_guastafriends\n",
      "\n",
      "2021-06-21 23:46:17 - **********************\n",
      "2021-06-21 23:46:17 - \n",
      "\n",
      "\n",
      "2021-06-21 23:46:17 - Processing account: analiviafr\n",
      "2021-06-21 23:46:17 - Images:\n",
      "2021-06-21 23:46:17 - 1/24 - D:\\IC\\tcc_insta\\data\\1-Creating_Dataset\\Dataset\\guastafriends\\analiviafr\\images\\2594000555992397353.jpg\n",
      "2021-06-21 23:46:17 - guastafriends\n",
      "\n",
      "2021-06-21 23:46:17 - 2/24 - D:\\IC\\tcc_insta\\data\\1-Creating_Dataset\\Dataset\\guastafriends\\analiviafr\\images\\2591543247915754412.jpg\n",
      "2021-06-21 23:46:17 - non_guastafriends\n",
      "\n",
      "2021-06-21 23:46:17 - 3/24 - D:\\IC\\tcc_insta\\data\\1-Creating_Dataset\\Dataset\\guastafriends\\analiviafr\\images\\2569337474062436478.jpg\n",
      "2021-06-21 23:46:18 - non_guastafriends\n",
      "\n",
      "2021-06-21 23:46:18 - 4/24 - D:\\IC\\tcc_insta\\data\\1-Creating_Dataset\\Dataset\\guastafriends\\analiviafr\\images\\2569337474070692081.jpg\n",
      "2021-06-21 23:46:18 - guastafriends\n",
      "\n",
      "2021-06-21 23:46:18 - 5/24 - D:\\IC\\tcc_insta\\data\\1-Creating_Dataset\\Dataset\\guastafriends\\analiviafr\\images\\2542370301293187593.jpg\n",
      "2021-06-21 23:46:18 - guastafriends\n",
      "\n",
      "2021-06-21 23:46:18 - 6/24 - D:\\IC\\tcc_insta\\data\\1-Creating_Dataset\\Dataset\\guastafriends\\analiviafr\\images\\2533204737358347962.jpg\n",
      "2021-06-21 23:46:18 - non_guastafriends\n",
      "\n",
      "2021-06-21 23:46:18 - 7/24 - D:\\IC\\tcc_insta\\data\\1-Creating_Dataset\\Dataset\\guastafriends\\analiviafr\\images\\2478769066275638323.jpg\n",
      "2021-06-21 23:46:19 - guastafriends\n",
      "\n",
      "2021-06-21 23:46:19 - 8/24 - D:\\IC\\tcc_insta\\data\\1-Creating_Dataset\\Dataset\\guastafriends\\analiviafr\\images\\2470709886092425169.jpg\n",
      "2021-06-21 23:46:19 - guastafriends\n",
      "\n",
      "2021-06-21 23:46:19 - 9/24 - D:\\IC\\tcc_insta\\data\\1-Creating_Dataset\\Dataset\\guastafriends\\analiviafr\\images\\2461403793117691626.jpg\n"
     ]
    },
    {
     "name": "stdout",
     "output_type": "stream",
     "text": [
      "2021-06-21 23:46:19 - non_guastafriends\n",
      "\n",
      "2021-06-21 23:46:19 - 10/24 - D:\\IC\\tcc_insta\\data\\1-Creating_Dataset\\Dataset\\guastafriends\\analiviafr\\images\\2452765368051516486.jpg\n",
      "2021-06-21 23:46:19 - guastafriends\n",
      "\n",
      "2021-06-21 23:46:19 - 11/24 - D:\\IC\\tcc_insta\\data\\1-Creating_Dataset\\Dataset\\guastafriends\\analiviafr\\images\\2432513885829744549.jpg\n",
      "2021-06-21 23:46:20 - non_guastafriends\n",
      "\n",
      "2021-06-21 23:46:20 - 12/24 - D:\\IC\\tcc_insta\\data\\1-Creating_Dataset\\Dataset\\guastafriends\\analiviafr\\images\\2427798885320090139.jpg\n",
      "2021-06-21 23:46:20 - guastafriends\n",
      "\n",
      "2021-06-21 23:46:20 - 13/24 - D:\\IC\\tcc_insta\\data\\1-Creating_Dataset\\Dataset\\guastafriends\\analiviafr\\images\\2421405985413667308.jpg\n",
      "2021-06-21 23:46:20 - non_guastafriends\n",
      "\n",
      "2021-06-21 23:46:20 - 14/24 - D:\\IC\\tcc_insta\\data\\1-Creating_Dataset\\Dataset\\guastafriends\\analiviafr\\images\\2399507323372725521.jpg\n",
      "2021-06-21 23:46:20 - non_guastafriends\n",
      "\n",
      "2021-06-21 23:46:20 - 15/24 - D:\\IC\\tcc_insta\\data\\1-Creating_Dataset\\Dataset\\guastafriends\\analiviafr\\images\\2397613462140649492.jpg\n",
      "2021-06-21 23:46:20 - non_guastafriends\n",
      "\n",
      "2021-06-21 23:46:20 - 16/24 - D:\\IC\\tcc_insta\\data\\1-Creating_Dataset\\Dataset\\guastafriends\\analiviafr\\images\\2396975538935974588.jpg\n",
      "2021-06-21 23:46:21 - guastafriends\n",
      "\n",
      "2021-06-21 23:46:21 - 17/24 - D:\\IC\\tcc_insta\\data\\1-Creating_Dataset\\Dataset\\guastafriends\\analiviafr\\images\\2386540090006936652.jpg\n",
      "2021-06-21 23:46:21 - non_guastafriends\n",
      "\n",
      "2021-06-21 23:46:21 - 18/24 - D:\\IC\\tcc_insta\\data\\1-Creating_Dataset\\Dataset\\guastafriends\\analiviafr\\images\\2382964110319247597.jpg\n",
      "2021-06-21 23:46:21 - guastafriends\n",
      "\n",
      "2021-06-21 23:46:21 - 19/24 - D:\\IC\\tcc_insta\\data\\1-Creating_Dataset\\Dataset\\guastafriends\\analiviafr\\images\\2378533874235669325.jpg\n",
      "2021-06-21 23:46:21 - non_guastafriends\n",
      "\n",
      "2021-06-21 23:46:21 - 20/24 - D:\\IC\\tcc_insta\\data\\1-Creating_Dataset\\Dataset\\guastafriends\\analiviafr\\images\\2373523492417565413.jpg\n",
      "2021-06-21 23:46:22 - guastafriends\n",
      "\n",
      "2021-06-21 23:46:22 - 21/24 - D:\\IC\\tcc_insta\\data\\1-Creating_Dataset\\Dataset\\guastafriends\\analiviafr\\images\\2372738791574456311.jpg\n",
      "2021-06-21 23:46:22 - non_guastafriends\n",
      "\n",
      "2021-06-21 23:46:22 - 22/24 - D:\\IC\\tcc_insta\\data\\1-Creating_Dataset\\Dataset\\guastafriends\\analiviafr\\images\\2367038668903131501.jpg\n",
      "2021-06-21 23:46:22 - guastafriends\n",
      "\n",
      "2021-06-21 23:46:22 - 23/24 - D:\\IC\\tcc_insta\\data\\1-Creating_Dataset\\Dataset\\guastafriends\\analiviafr\\images\\2338800160329908085.jpg\n",
      "2021-06-21 23:46:23 - non_guastafriends\n",
      "\n",
      "2021-06-21 23:46:23 - 24/24 - D:\\IC\\tcc_insta\\data\\1-Creating_Dataset\\Dataset\\guastafriends\\analiviafr\\images\\2336470407732051531.jpg\n",
      "2021-06-21 23:46:23 - guastafriends\n",
      "\n",
      "2021-06-21 23:46:23 - **********************\n",
      "2021-06-21 23:46:23 - \n",
      "\n",
      "\n",
      "2021-06-21 23:46:23 - Processing account: thayfcruz\n",
      "2021-06-21 23:46:23 - Images:\n",
      "2021-06-21 23:46:23 - 1/23 - D:\\IC\\tcc_insta\\data\\1-Creating_Dataset\\Dataset\\guastafriends\\thayfcruz\\images\\2546239917298947555.jpg\n",
      "2021-06-21 23:46:23 - guastafriends\n",
      "\n",
      "2021-06-21 23:46:23 - 2/23 - D:\\IC\\tcc_insta\\data\\1-Creating_Dataset\\Dataset\\guastafriends\\thayfcruz\\images\\2543365257360157610.jpg\n",
      "2021-06-21 23:46:23 - guastafriends\n",
      "\n",
      "2021-06-21 23:46:23 - 3/23 - D:\\IC\\tcc_insta\\data\\1-Creating_Dataset\\Dataset\\guastafriends\\thayfcruz\\images\\2543365257368490210.jpg\n",
      "2021-06-21 23:46:24 - guastafriends\n",
      "\n",
      "2021-06-21 23:46:24 - 4/23 - D:\\IC\\tcc_insta\\data\\1-Creating_Dataset\\Dataset\\guastafriends\\thayfcruz\\images\\2543365257385302942.jpg\n",
      "2021-06-21 23:46:24 - guastafriends\n",
      "\n",
      "2021-06-21 23:46:24 - 5/23 - D:\\IC\\tcc_insta\\data\\1-Creating_Dataset\\Dataset\\guastafriends\\thayfcruz\\images\\2524428335376052471.jpg\n",
      "2021-06-21 23:46:24 - guastafriends\n",
      "\n",
      "2021-06-21 23:46:24 - 6/23 - D:\\IC\\tcc_insta\\data\\1-Creating_Dataset\\Dataset\\guastafriends\\thayfcruz\\images\\2494841088725274486.jpg\n",
      "2021-06-21 23:46:25 - guastafriends\n",
      "\n",
      "2021-06-21 23:46:25 - 7/23 - D:\\IC\\tcc_insta\\data\\1-Creating_Dataset\\Dataset\\guastafriends\\thayfcruz\\images\\2484755028339302903.jpg\n",
      "2021-06-21 23:46:25 - non_guastafriends\n",
      "\n",
      "2021-06-21 23:46:25 - 8/23 - D:\\IC\\tcc_insta\\data\\1-Creating_Dataset\\Dataset\\guastafriends\\thayfcruz\\images\\2484755028364430486.jpg\n",
      "2021-06-21 23:46:25 - non_guastafriends\n",
      "\n",
      "2021-06-21 23:46:25 - 9/23 - D:\\IC\\tcc_insta\\data\\1-Creating_Dataset\\Dataset\\guastafriends\\thayfcruz\\images\\2484755028330793234.jpg\n",
      "2021-06-21 23:46:26 - non_guastafriends\n",
      "\n",
      "2021-06-21 23:46:26 - 10/23 - D:\\IC\\tcc_insta\\data\\1-Creating_Dataset\\Dataset\\guastafriends\\thayfcruz\\images\\2484755028314143997.jpg\n",
      "2021-06-21 23:46:26 - non_guastafriends\n",
      "\n",
      "2021-06-21 23:46:26 - 11/23 - D:\\IC\\tcc_insta\\data\\1-Creating_Dataset\\Dataset\\guastafriends\\thayfcruz\\images\\2484755028322459415.jpg\n",
      "2021-06-21 23:46:26 - non_guastafriends\n",
      "\n",
      "2021-06-21 23:46:26 - 12/23 - D:\\IC\\tcc_insta\\data\\1-Creating_Dataset\\Dataset\\guastafriends\\thayfcruz\\images\\2484755028372860388.jpg\n",
      "2021-06-21 23:46:27 - non_guastafriends\n",
      "\n",
      "2021-06-21 23:46:27 - 13/23 - D:\\IC\\tcc_insta\\data\\1-Creating_Dataset\\Dataset\\guastafriends\\thayfcruz\\images\\2484755028356069153.jpg\n",
      "2021-06-21 23:46:27 - guastafriends\n",
      "\n",
      "2021-06-21 23:46:27 - 14/23 - D:\\IC\\tcc_insta\\data\\1-Creating_Dataset\\Dataset\\guastafriends\\thayfcruz\\images\\2481079434367903556.jpg\n",
      "2021-06-21 23:46:27 - guastafriends\n",
      "\n",
      "2021-06-21 23:46:27 - 15/23 - D:\\IC\\tcc_insta\\data\\1-Creating_Dataset\\Dataset\\guastafriends\\thayfcruz\\images\\2481079434376293111.jpg\n",
      "2021-06-21 23:46:28 - guastafriends\n",
      "\n",
      "2021-06-21 23:46:28 - 16/23 - D:\\IC\\tcc_insta\\data\\1-Creating_Dataset\\Dataset\\guastafriends\\thayfcruz\\images\\2481079434384593883.jpg\n",
      "2021-06-21 23:46:28 - non_guastafriends\n",
      "\n",
      "2021-06-21 23:46:28 - 17/23 - D:\\IC\\tcc_insta\\data\\1-Creating_Dataset\\Dataset\\guastafriends\\thayfcruz\\images\\2463671266146987276.jpg\n",
      "2021-06-21 23:46:28 - guastafriends\n",
      "\n",
      "2021-06-21 23:46:28 - 18/23 - D:\\IC\\tcc_insta\\data\\1-Creating_Dataset\\Dataset\\guastafriends\\thayfcruz\\images\\2418010242509196435.jpg\n",
      "2021-06-21 23:46:29 - guastafriends\n",
      "\n",
      "2021-06-21 23:46:29 - 19/23 - D:\\IC\\tcc_insta\\data\\1-Creating_Dataset\\Dataset\\guastafriends\\thayfcruz\\images\\2360354735393235970.jpg\n",
      "2021-06-21 23:46:29 - guastafriends\n",
      "\n",
      "2021-06-21 23:46:29 - 20/23 - D:\\IC\\tcc_insta\\data\\1-Creating_Dataset\\Dataset\\guastafriends\\thayfcruz\\images\\2360354735468666046.jpg\n",
      "2021-06-21 23:46:29 - non_guastafriends\n",
      "\n",
      "2021-06-21 23:46:29 - 21/23 - D:\\IC\\tcc_insta\\data\\1-Creating_Dataset\\Dataset\\guastafriends\\thayfcruz\\images\\2360354735418389856.jpg\n",
      "2021-06-21 23:46:30 - guastafriends\n",
      "\n",
      "2021-06-21 23:46:30 - 22/23 - D:\\IC\\tcc_insta\\data\\1-Creating_Dataset\\Dataset\\guastafriends\\thayfcruz\\images\\2350228190326521286.jpg\n",
      "2021-06-21 23:46:30 - guastafriends\n",
      "\n",
      "2021-06-21 23:46:30 - 23/23 - D:\\IC\\tcc_insta\\data\\1-Creating_Dataset\\Dataset\\guastafriends\\thayfcruz\\images\\2350228190309801358.jpg\n",
      "2021-06-21 23:46:31 - guastafriends\n",
      "\n",
      "2021-06-21 23:46:31 - **********************\n",
      "2021-06-21 23:46:31 - \n",
      "\n",
      "\n",
      "2021-06-21 23:46:31 - Processing account: mariavuzum\n",
      "2021-06-21 23:46:31 - Images:\n",
      "2021-06-21 23:46:31 - 1/5 - D:\\IC\\tcc_insta\\data\\1-Creating_Dataset\\Dataset\\guastafriends\\mariavuzum\\images\\2588069476880922363.jpg\n",
      "2021-06-21 23:46:31 - guastafriends\n",
      "\n",
      "2021-06-21 23:46:31 - 2/5 - D:\\IC\\tcc_insta\\data\\1-Creating_Dataset\\Dataset\\guastafriends\\mariavuzum\\images\\2588069476855749305.jpg\n",
      "2021-06-21 23:46:31 - guastafriends\n",
      "\n",
      "2021-06-21 23:46:31 - 3/5 - D:\\IC\\tcc_insta\\data\\1-Creating_Dataset\\Dataset\\guastafriends\\mariavuzum\\images\\2588069476889334415.jpg\n",
      "2021-06-21 23:46:32 - guastafriends\n",
      "\n",
      "2021-06-21 23:46:32 - 4/5 - D:\\IC\\tcc_insta\\data\\1-Creating_Dataset\\Dataset\\guastafriends\\mariavuzum\\images\\2588069476847544413.jpg\n",
      "2021-06-21 23:46:32 - guastafriends\n",
      "\n",
      "2021-06-21 23:46:32 - 5/5 - D:\\IC\\tcc_insta\\data\\1-Creating_Dataset\\Dataset\\guastafriends\\mariavuzum\\images\\2474916018582246471.jpg\n",
      "2021-06-21 23:46:32 - guastafriends\n",
      "\n",
      "2021-06-21 23:46:32 - **********************\n",
      "2021-06-21 23:46:32 - \n",
      "\n",
      "\n",
      "2021-06-21 23:46:32 - Processing account: matheuserrera\n",
      "2021-06-21 23:46:32 - Images:\n",
      "2021-06-21 23:46:32 - 1/3 - D:\\IC\\tcc_insta\\data\\1-Creating_Dataset\\Dataset\\guastafriends\\matheuserrera\\images\\2444719414429770445.jpg\n",
      "2021-06-21 23:46:32 - guastafriends\n",
      "\n",
      "2021-06-21 23:46:32 - 2/3 - D:\\IC\\tcc_insta\\data\\1-Creating_Dataset\\Dataset\\guastafriends\\matheuserrera\\images\\2444719414412931794.jpg\n",
      "2021-06-21 23:46:33 - guastafriends\n",
      "\n"
     ]
    },
    {
     "name": "stdout",
     "output_type": "stream",
     "text": [
      "2021-06-21 23:46:33 - 3/3 - D:\\IC\\tcc_insta\\data\\1-Creating_Dataset\\Dataset\\guastafriends\\matheuserrera\\images\\2437443258114555277.jpg\n",
      "2021-06-21 23:46:33 - guastafriends\n",
      "\n",
      "2021-06-21 23:46:33 - **********************\n",
      "2021-06-21 23:46:33 - \n",
      "\n",
      "\n"
     ]
    }
   ],
   "source": [
    "# load the VGG16 network and initialize the label encoder\n",
    "log_print(\"[INFO] loading network...\")\n",
    "vgg16 = VGG16(weights=\"imagenet\", include_top=False)\n",
    "\n",
    "with open(os.path.join(PATH_CNN_CLEAN_OUTPUT_TYPE, \"model.cpickle\"), 'rb') as file:\n",
    "    model = pickle.load(file)\n",
    "\n",
    "list_accounts = get_accounts()\n",
    "\n",
    "for acc in list_accounts:\n",
    "    acc = str(acc).strip()\n",
    "\n",
    "    log_print(\"Processing account: \" + acc)\n",
    "\n",
    "    with open(os.path.join(PATH_FIRST_DATASET_TYPE, acc, \"user_posts_overview.json\"), encoding=\"utf-8\") as json_file:\n",
    "        posts_overview = json.load(json_file)\n",
    "\n",
    "    posts_overview_clean = {}\n",
    "    posts_overview_clean[\"collected_at\"] = posts_overview[\"collected_at\"]\n",
    "    posts_overview_clean[\"num_results\"] = 0\n",
    "    posts_overview_clean[\"items\"] = []\n",
    "    posts_overview_clean[\"media_count_total\"] = 0\n",
    "\n",
    "    count_image = 1\n",
    "    log_print(\"Images:\")\n",
    "    for item in posts_overview[\"items\"]:\n",
    "        if not \"comments_disabled\" in item or not item[\"comments_disabled\"]:\n",
    "            item_copy = item.copy()\n",
    "            item_copy[\"media_count\"] = 0\n",
    "            item_copy[\"images\"] = []\n",
    "\n",
    "            for image in item[\"images\"]:\n",
    "                imagePath = os.path.join(PATH_FIRST_DATASET_TYPE, acc, \"images\", str(image['pk']) + \".jpg\")\n",
    "                log_print(str(count_image) + \"/\" + str(posts_overview[\"media_count_total\"]) + \" - \" + imagePath)\n",
    "                count_image += 1\n",
    "\n",
    "                try_count = 0\n",
    "                try_again = True\n",
    "                while try_again:\n",
    "                    try:\n",
    "                        batchImages = []\n",
    "                        image_model = load_img(imagePath, target_size=(224, 224))\n",
    "                        image_model = img_to_array(image_model)\n",
    "\n",
    "                        # preprocess the image by (1) expanding the dimensions and\n",
    "                        # (2) subtracting the mean RGB pixel intensity from the\n",
    "                        # ImageNet dataset\n",
    "                        image_model = np.expand_dims(image_model, axis=0)\n",
    "                        image_model = imagenet_utils.preprocess_input(image_model)\n",
    "\n",
    "                        batchImages.append(image_model)\n",
    "\n",
    "                        batchImages = np.vstack(batchImages)\n",
    "                        features = vgg16.predict(batchImages, batch_size=BATCH_SIZE)\n",
    "                        features = features.reshape((features.shape[0], 7 * 7 * 512))\n",
    "\n",
    "                        resul = model.predict(features)\n",
    "\n",
    "                        if resul[0] == '0':\n",
    "                            log_print(TYPE + \"\\n\")\n",
    "                            item_copy[\"images\"].append(image)\n",
    "                            item_copy[\"media_count\"] += 1\n",
    "                            posts_overview_clean[\"media_count_total\"] += 1\n",
    "                        else:\n",
    "                            log_print(\"non_\" + TYPE + \"\\n\")\n",
    "                        try_again = False\n",
    "                    except Exception as err:\n",
    "                        log_print(\"Error: \" + str(err))\n",
    "                        log_print(\"Downloading image again: \" + image['url'])\n",
    "                        resp = requests.get(image['url'], stream=True,timeout=20)  # Open the url image, set stream to True, this will return the stream content.\n",
    "                        local_file = open(imagePath, 'wb')  # Open a local file with wb ( write binary ) permission.\n",
    "                        resp.raw.decode_content = True  # Set decode_content value to True, otherwise the downloaded image file's size will be zero.\n",
    "                        shutil.copyfileobj(resp.raw, local_file)  # Copy the response stream raw data to local image file.\n",
    "                        try_count += 1\n",
    "                        if try_count > 3:\n",
    "                            os.remove(imagePath)\n",
    "                            error_file = open(os.path.join(folder_path, \"deleted_images_path.txt\"), 'a')\n",
    "                            error_file.write(imagePath)\n",
    "                            error_file.write(\"\\n\")\n",
    "                            error_file.close()\n",
    "                            try_again = False\n",
    "\n",
    "            if item_copy[\"media_count\"] > 0:\n",
    "                posts_overview_clean[\"items\"].append(item_copy)\n",
    "                posts_overview_clean[\"num_results\"] += 1\n",
    "\n",
    "    if posts_overview_clean[\"num_results\"] > 0:\n",
    "        if not os.path.exists(os.path.join(PATH_CLEAN_DATASET_TYPE, acc)):\n",
    "            os.makedirs(os.path.join(PATH_CLEAN_DATASET_TYPE, acc))\n",
    "        with open(os.path.join(PATH_CLEAN_DATASET_TYPE, acc, \"user_posts_overview_clean.json\"), 'w+', encoding=\"utf-8\") as json_file:\n",
    "            json.dump(posts_overview_clean, json_file, indent=4, ensure_ascii=False)\n",
    "\n",
    "    print(\"**********************************************\\n\")\n",
    "            \n",
    "log_print(\"Finished\")"
   ]
  },
  {
   "cell_type": "markdown",
   "id": "fef227b8",
   "metadata": {
    "hidden": true
   },
   "source": [
    "## Moving Images"
   ]
  },
  {
   "cell_type": "code",
   "execution_count": 44,
   "id": "67dbc4aa",
   "metadata": {
    "hidden": true
   },
   "outputs": [
    {
     "name": "stdout",
     "output_type": "stream",
     "text": [
      "2021-06-22 00:01:04 - Processing account _guasta\n",
      "**********************************************\n",
      "\n",
      "2021-06-22 00:01:04 - Processing account joao.squinelato\n",
      "**********************************************\n",
      "\n",
      "2021-06-22 00:01:04 - Processing account analiviafr\n",
      "**********************************************\n",
      "\n",
      "2021-06-22 00:01:04 - Processing account thayfcruz\n",
      "**********************************************\n",
      "\n",
      "2021-06-22 00:01:04 - Processing account mariavuzum\n",
      "**********************************************\n",
      "\n",
      "2021-06-22 00:01:04 - Processing account matheuserrera\n",
      "**********************************************\n",
      "\n",
      "2021-06-22 00:01:04 - Finished\n"
     ]
    }
   ],
   "source": [
    "list_accounts = get_accounts()\n",
    "\n",
    "for acc in list_accounts:\n",
    "    acc = str(acc).strip()\n",
    "    \n",
    "    log_print(f\"Processing account {acc}\")\n",
    "    \n",
    "    shutil.copyfile(os.path.join(PATH_FIRST_DATASET_TYPE, acc, \"user_info.json\"), os.path.join(PATH_CLEAN_DATASET_TYPE, acc, \"user_info.json\"))\n",
    "\n",
    "    if not os.path.exists(os.path.join(PATH_CLEAN_DATASET_TYPE, acc, \"images\")):\n",
    "        os.makedirs(os.path.join(PATH_CLEAN_DATASET_TYPE, acc, \"images\"))\n",
    "\n",
    "    with open(os.path.join(PATH_CLEAN_DATASET_TYPE, acc, \"user_posts_overview_clean.json\"), encoding=\"utf-8\") as json_file:\n",
    "        overview_clean = json.load(json_file)\n",
    "\n",
    "    images_moved = len(list(next(os.walk(os.path.join(PATH_CLEAN_DATASET_TYPE, acc, \"images\")))[2])) - 1 #0 - root, 1 - dirs, 2 - files\n",
    "    for item in overview_clean[\"items\"]:\n",
    "        for image in item[\"images\"]:\n",
    "            if not os.path.exists(os.path.join(PATH_CLEAN_DATASET_TYPE, acc, \"images\", str(image[\"pk\"]) + \".jpg\")):\n",
    "                log_print(f\"{images_moved}/{overview_clean['media_count_total']}\")\n",
    "                images_moved += 1\n",
    "                shutil.move(os.path.join(PATH_FIRST_DATASET_TYPE, acc, \"images\", str(image[\"pk\"]) + \".jpg\"), os.path.join(PATH_CLEAN_DATASET_TYPE, acc, \"images\", str(image[\"pk\"]) + \".jpg\"))\n",
    "    print(\"**********************************************\\n\")\n",
    "            \n",
    "log_print(\"Finished\")"
   ]
  },
  {
   "cell_type": "code",
   "execution_count": null,
   "id": "d70ba4a9",
   "metadata": {
    "hidden": true
   },
   "outputs": [],
   "source": []
  }
 ],
 "metadata": {
  "kernelspec": {
   "display_name": "Python 3",
   "language": "python",
   "name": "python3"
  },
  "language_info": {
   "codemirror_mode": {
    "name": "ipython",
    "version": 3
   },
   "file_extension": ".py",
   "mimetype": "text/x-python",
   "name": "python",
   "nbconvert_exporter": "python",
   "pygments_lexer": "ipython3",
   "version": "3.8.8"
  },
  "toc": {
   "base_numbering": 1,
   "nav_menu": {
    "height": "308px",
    "width": "254px"
   },
   "number_sections": true,
   "sideBar": true,
   "skip_h1_title": false,
   "title_cell": "Table of Contents",
   "title_sidebar": "Contents",
   "toc_cell": false,
   "toc_position": {
    "height": "calc(100% - 180px)",
    "left": "10px",
    "top": "150px",
    "width": "384px"
   },
   "toc_section_display": true,
   "toc_window_display": true
  },
  "varInspector": {
   "cols": {
    "lenName": 16,
    "lenType": 16,
    "lenVar": 40
   },
   "kernels_config": {
    "python": {
     "delete_cmd_postfix": "",
     "delete_cmd_prefix": "del ",
     "library": "var_list.py",
     "varRefreshCmd": "print(var_dic_list())"
    },
    "r": {
     "delete_cmd_postfix": ") ",
     "delete_cmd_prefix": "rm(",
     "library": "var_list.r",
     "varRefreshCmd": "cat(var_dic_list()) "
    }
   },
   "position": {
    "height": "682px",
    "left": "1553px",
    "right": "20px",
    "top": "120px",
    "width": "347px"
   },
   "types_to_exclude": [
    "module",
    "function",
    "builtin_function_or_method",
    "instance",
    "_Feature"
   ],
   "window_display": true
  }
 },
 "nbformat": 4,
 "nbformat_minor": 5
}
